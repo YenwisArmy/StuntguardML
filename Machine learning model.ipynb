{
  "cells": [
    {
      "cell_type": "markdown",
      "metadata": {
        "id": "XMFLGhi-2oIz"
      },
      "source": [
        "# Importing Library"
      ]
    },
    {
      "cell_type": "code",
      "execution_count": 1,
      "metadata": {
        "id": "QggDH72YJQqx"
      },
      "outputs": [],
      "source": [
        "import numpy as np\n",
        "import pandas as pd\n",
        "import seaborn as sns\n",
        "import tensorflow as tf\n",
        "from tensorflow import keras\n",
        "from keras import optimizers\n",
        "from keras.utils import plot_model\n",
        "from matplotlib import pyplot as plt\n",
        "from tensorflow import feature_column\n",
        "from imblearn.combine import SMOTEENN\n",
        "from sklearn.model_selection import train_test_split"
      ]
    },
    {
      "cell_type": "markdown",
      "metadata": {
        "id": "Xz8YvmGu2yKb"
      },
      "source": [
        "# Load Data"
      ]
    },
    {
      "cell_type": "code",
      "execution_count": 2,
      "metadata": {
        "id": "I2F7WoVo-gPM"
      },
      "outputs": [],
      "source": [
        "raw_data = pd.read_csv('https://drive.google.com/uc?export=download&id=1fGJum1PPeKoLv2Eq5w653Nsej0GA-oiE')"
      ]
    },
    {
      "cell_type": "code",
      "execution_count": 3,
      "metadata": {
        "colab": {
          "base_uri": "https://localhost:8080/",
          "height": 206
        },
        "id": "Ey4GOqdHNQNW",
        "outputId": "a854a529-b853-4f2d-8287-af7a34f969f1"
      },
      "outputs": [
        {
          "output_type": "execute_result",
          "data": {
            "text/plain": [
              "   Umur (bulan) Jenis Kelamin  Tinggi Badan (cm)       Status Gizi\n",
              "0             0     laki-laki          44.591973           stunted\n",
              "1             0     laki-laki          56.705203            tinggi\n",
              "2             0     laki-laki          46.863358            normal\n",
              "3             0     laki-laki          47.508026            normal\n",
              "4             0     laki-laki          42.743494  severely stunted"
            ],
            "text/html": [
              "\n",
              "  <div id=\"df-c74ee806-58af-4650-ae05-5f16d4760740\" class=\"colab-df-container\">\n",
              "    <div>\n",
              "<style scoped>\n",
              "    .dataframe tbody tr th:only-of-type {\n",
              "        vertical-align: middle;\n",
              "    }\n",
              "\n",
              "    .dataframe tbody tr th {\n",
              "        vertical-align: top;\n",
              "    }\n",
              "\n",
              "    .dataframe thead th {\n",
              "        text-align: right;\n",
              "    }\n",
              "</style>\n",
              "<table border=\"1\" class=\"dataframe\">\n",
              "  <thead>\n",
              "    <tr style=\"text-align: right;\">\n",
              "      <th></th>\n",
              "      <th>Umur (bulan)</th>\n",
              "      <th>Jenis Kelamin</th>\n",
              "      <th>Tinggi Badan (cm)</th>\n",
              "      <th>Status Gizi</th>\n",
              "    </tr>\n",
              "  </thead>\n",
              "  <tbody>\n",
              "    <tr>\n",
              "      <th>0</th>\n",
              "      <td>0</td>\n",
              "      <td>laki-laki</td>\n",
              "      <td>44.591973</td>\n",
              "      <td>stunted</td>\n",
              "    </tr>\n",
              "    <tr>\n",
              "      <th>1</th>\n",
              "      <td>0</td>\n",
              "      <td>laki-laki</td>\n",
              "      <td>56.705203</td>\n",
              "      <td>tinggi</td>\n",
              "    </tr>\n",
              "    <tr>\n",
              "      <th>2</th>\n",
              "      <td>0</td>\n",
              "      <td>laki-laki</td>\n",
              "      <td>46.863358</td>\n",
              "      <td>normal</td>\n",
              "    </tr>\n",
              "    <tr>\n",
              "      <th>3</th>\n",
              "      <td>0</td>\n",
              "      <td>laki-laki</td>\n",
              "      <td>47.508026</td>\n",
              "      <td>normal</td>\n",
              "    </tr>\n",
              "    <tr>\n",
              "      <th>4</th>\n",
              "      <td>0</td>\n",
              "      <td>laki-laki</td>\n",
              "      <td>42.743494</td>\n",
              "      <td>severely stunted</td>\n",
              "    </tr>\n",
              "  </tbody>\n",
              "</table>\n",
              "</div>\n",
              "    <div class=\"colab-df-buttons\">\n",
              "\n",
              "  <div class=\"colab-df-container\">\n",
              "    <button class=\"colab-df-convert\" onclick=\"convertToInteractive('df-c74ee806-58af-4650-ae05-5f16d4760740')\"\n",
              "            title=\"Convert this dataframe to an interactive table.\"\n",
              "            style=\"display:none;\">\n",
              "\n",
              "  <svg xmlns=\"http://www.w3.org/2000/svg\" height=\"24px\" viewBox=\"0 -960 960 960\">\n",
              "    <path d=\"M120-120v-720h720v720H120Zm60-500h600v-160H180v160Zm220 220h160v-160H400v160Zm0 220h160v-160H400v160ZM180-400h160v-160H180v160Zm440 0h160v-160H620v160ZM180-180h160v-160H180v160Zm440 0h160v-160H620v160Z\"/>\n",
              "  </svg>\n",
              "    </button>\n",
              "\n",
              "  <style>\n",
              "    .colab-df-container {\n",
              "      display:flex;\n",
              "      gap: 12px;\n",
              "    }\n",
              "\n",
              "    .colab-df-convert {\n",
              "      background-color: #E8F0FE;\n",
              "      border: none;\n",
              "      border-radius: 50%;\n",
              "      cursor: pointer;\n",
              "      display: none;\n",
              "      fill: #1967D2;\n",
              "      height: 32px;\n",
              "      padding: 0 0 0 0;\n",
              "      width: 32px;\n",
              "    }\n",
              "\n",
              "    .colab-df-convert:hover {\n",
              "      background-color: #E2EBFA;\n",
              "      box-shadow: 0px 1px 2px rgba(60, 64, 67, 0.3), 0px 1px 3px 1px rgba(60, 64, 67, 0.15);\n",
              "      fill: #174EA6;\n",
              "    }\n",
              "\n",
              "    .colab-df-buttons div {\n",
              "      margin-bottom: 4px;\n",
              "    }\n",
              "\n",
              "    [theme=dark] .colab-df-convert {\n",
              "      background-color: #3B4455;\n",
              "      fill: #D2E3FC;\n",
              "    }\n",
              "\n",
              "    [theme=dark] .colab-df-convert:hover {\n",
              "      background-color: #434B5C;\n",
              "      box-shadow: 0px 1px 3px 1px rgba(0, 0, 0, 0.15);\n",
              "      filter: drop-shadow(0px 1px 2px rgba(0, 0, 0, 0.3));\n",
              "      fill: #FFFFFF;\n",
              "    }\n",
              "  </style>\n",
              "\n",
              "    <script>\n",
              "      const buttonEl =\n",
              "        document.querySelector('#df-c74ee806-58af-4650-ae05-5f16d4760740 button.colab-df-convert');\n",
              "      buttonEl.style.display =\n",
              "        google.colab.kernel.accessAllowed ? 'block' : 'none';\n",
              "\n",
              "      async function convertToInteractive(key) {\n",
              "        const element = document.querySelector('#df-c74ee806-58af-4650-ae05-5f16d4760740');\n",
              "        const dataTable =\n",
              "          await google.colab.kernel.invokeFunction('convertToInteractive',\n",
              "                                                    [key], {});\n",
              "        if (!dataTable) return;\n",
              "\n",
              "        const docLinkHtml = 'Like what you see? Visit the ' +\n",
              "          '<a target=\"_blank\" href=https://colab.research.google.com/notebooks/data_table.ipynb>data table notebook</a>'\n",
              "          + ' to learn more about interactive tables.';\n",
              "        element.innerHTML = '';\n",
              "        dataTable['output_type'] = 'display_data';\n",
              "        await google.colab.output.renderOutput(dataTable, element);\n",
              "        const docLink = document.createElement('div');\n",
              "        docLink.innerHTML = docLinkHtml;\n",
              "        element.appendChild(docLink);\n",
              "      }\n",
              "    </script>\n",
              "  </div>\n",
              "\n",
              "\n",
              "<div id=\"df-46963ecf-0a31-4f85-bb27-d7cf59cfd252\">\n",
              "  <button class=\"colab-df-quickchart\" onclick=\"quickchart('df-46963ecf-0a31-4f85-bb27-d7cf59cfd252')\"\n",
              "            title=\"Suggest charts\"\n",
              "            style=\"display:none;\">\n",
              "\n",
              "<svg xmlns=\"http://www.w3.org/2000/svg\" height=\"24px\"viewBox=\"0 0 24 24\"\n",
              "     width=\"24px\">\n",
              "    <g>\n",
              "        <path d=\"M19 3H5c-1.1 0-2 .9-2 2v14c0 1.1.9 2 2 2h14c1.1 0 2-.9 2-2V5c0-1.1-.9-2-2-2zM9 17H7v-7h2v7zm4 0h-2V7h2v10zm4 0h-2v-4h2v4z\"/>\n",
              "    </g>\n",
              "</svg>\n",
              "  </button>\n",
              "\n",
              "<style>\n",
              "  .colab-df-quickchart {\n",
              "      --bg-color: #E8F0FE;\n",
              "      --fill-color: #1967D2;\n",
              "      --hover-bg-color: #E2EBFA;\n",
              "      --hover-fill-color: #174EA6;\n",
              "      --disabled-fill-color: #AAA;\n",
              "      --disabled-bg-color: #DDD;\n",
              "  }\n",
              "\n",
              "  [theme=dark] .colab-df-quickchart {\n",
              "      --bg-color: #3B4455;\n",
              "      --fill-color: #D2E3FC;\n",
              "      --hover-bg-color: #434B5C;\n",
              "      --hover-fill-color: #FFFFFF;\n",
              "      --disabled-bg-color: #3B4455;\n",
              "      --disabled-fill-color: #666;\n",
              "  }\n",
              "\n",
              "  .colab-df-quickchart {\n",
              "    background-color: var(--bg-color);\n",
              "    border: none;\n",
              "    border-radius: 50%;\n",
              "    cursor: pointer;\n",
              "    display: none;\n",
              "    fill: var(--fill-color);\n",
              "    height: 32px;\n",
              "    padding: 0;\n",
              "    width: 32px;\n",
              "  }\n",
              "\n",
              "  .colab-df-quickchart:hover {\n",
              "    background-color: var(--hover-bg-color);\n",
              "    box-shadow: 0 1px 2px rgba(60, 64, 67, 0.3), 0 1px 3px 1px rgba(60, 64, 67, 0.15);\n",
              "    fill: var(--button-hover-fill-color);\n",
              "  }\n",
              "\n",
              "  .colab-df-quickchart-complete:disabled,\n",
              "  .colab-df-quickchart-complete:disabled:hover {\n",
              "    background-color: var(--disabled-bg-color);\n",
              "    fill: var(--disabled-fill-color);\n",
              "    box-shadow: none;\n",
              "  }\n",
              "\n",
              "  .colab-df-spinner {\n",
              "    border: 2px solid var(--fill-color);\n",
              "    border-color: transparent;\n",
              "    border-bottom-color: var(--fill-color);\n",
              "    animation:\n",
              "      spin 1s steps(1) infinite;\n",
              "  }\n",
              "\n",
              "  @keyframes spin {\n",
              "    0% {\n",
              "      border-color: transparent;\n",
              "      border-bottom-color: var(--fill-color);\n",
              "      border-left-color: var(--fill-color);\n",
              "    }\n",
              "    20% {\n",
              "      border-color: transparent;\n",
              "      border-left-color: var(--fill-color);\n",
              "      border-top-color: var(--fill-color);\n",
              "    }\n",
              "    30% {\n",
              "      border-color: transparent;\n",
              "      border-left-color: var(--fill-color);\n",
              "      border-top-color: var(--fill-color);\n",
              "      border-right-color: var(--fill-color);\n",
              "    }\n",
              "    40% {\n",
              "      border-color: transparent;\n",
              "      border-right-color: var(--fill-color);\n",
              "      border-top-color: var(--fill-color);\n",
              "    }\n",
              "    60% {\n",
              "      border-color: transparent;\n",
              "      border-right-color: var(--fill-color);\n",
              "    }\n",
              "    80% {\n",
              "      border-color: transparent;\n",
              "      border-right-color: var(--fill-color);\n",
              "      border-bottom-color: var(--fill-color);\n",
              "    }\n",
              "    90% {\n",
              "      border-color: transparent;\n",
              "      border-bottom-color: var(--fill-color);\n",
              "    }\n",
              "  }\n",
              "</style>\n",
              "\n",
              "  <script>\n",
              "    async function quickchart(key) {\n",
              "      const quickchartButtonEl =\n",
              "        document.querySelector('#' + key + ' button');\n",
              "      quickchartButtonEl.disabled = true;  // To prevent multiple clicks.\n",
              "      quickchartButtonEl.classList.add('colab-df-spinner');\n",
              "      try {\n",
              "        const charts = await google.colab.kernel.invokeFunction(\n",
              "            'suggestCharts', [key], {});\n",
              "      } catch (error) {\n",
              "        console.error('Error during call to suggestCharts:', error);\n",
              "      }\n",
              "      quickchartButtonEl.classList.remove('colab-df-spinner');\n",
              "      quickchartButtonEl.classList.add('colab-df-quickchart-complete');\n",
              "    }\n",
              "    (() => {\n",
              "      let quickchartButtonEl =\n",
              "        document.querySelector('#df-46963ecf-0a31-4f85-bb27-d7cf59cfd252 button');\n",
              "      quickchartButtonEl.style.display =\n",
              "        google.colab.kernel.accessAllowed ? 'block' : 'none';\n",
              "    })();\n",
              "  </script>\n",
              "</div>\n",
              "    </div>\n",
              "  </div>\n"
            ],
            "application/vnd.google.colaboratory.intrinsic+json": {
              "type": "dataframe",
              "variable_name": "raw_data"
            }
          },
          "metadata": {},
          "execution_count": 3
        }
      ],
      "source": [
        "raw_data.head(5)"
      ]
    },
    {
      "cell_type": "code",
      "execution_count": 4,
      "metadata": {
        "id": "IC58ukVpxUZO"
      },
      "outputs": [],
      "source": [
        "#rename the column name so that there isn't whitespace\n",
        "raw_data.rename(columns = {'Umur (bulan)':'umur'}, inplace = True)\n",
        "raw_data.rename(columns = {'Jenis Kelamin':'Jenis_Kelamin'}, inplace = True)\n",
        "raw_data.rename(columns = {'Tinggi Badan (cm)':'Tinggi_Badan'}, inplace = True)\n",
        "raw_data.rename(columns = {'Status Gizi':'Status_Gizi'}, inplace = True)"
      ]
    },
    {
      "cell_type": "markdown",
      "metadata": {
        "id": "EFuMfKBT3Bt4"
      },
      "source": [
        "# Assessing Data"
      ]
    },
    {
      "cell_type": "code",
      "execution_count": 5,
      "metadata": {
        "colab": {
          "base_uri": "https://localhost:8080/"
        },
        "id": "eR90P7ZXNYqj",
        "outputId": "500bc27f-7247-4e16-c666-2c3d4584d302"
      },
      "outputs": [
        {
          "output_type": "stream",
          "name": "stdout",
          "text": [
            "<class 'pandas.core.frame.DataFrame'>\n",
            "RangeIndex: 120999 entries, 0 to 120998\n",
            "Data columns (total 4 columns):\n",
            " #   Column         Non-Null Count   Dtype  \n",
            "---  ------         --------------   -----  \n",
            " 0   umur           120999 non-null  int64  \n",
            " 1   Jenis_Kelamin  120999 non-null  object \n",
            " 2   Tinggi_Badan   120999 non-null  float64\n",
            " 3   Status_Gizi    120999 non-null  object \n",
            "dtypes: float64(1), int64(1), object(2)\n",
            "memory usage: 3.7+ MB\n"
          ]
        }
      ],
      "source": [
        "raw_data.info()"
      ]
    },
    {
      "cell_type": "code",
      "execution_count": 6,
      "metadata": {
        "colab": {
          "base_uri": "https://localhost:8080/",
          "height": 300
        },
        "id": "IyftyhUkJCuz",
        "outputId": "6daad047-538a-4af5-bf28-d1c2f2a5e3ce"
      },
      "outputs": [
        {
          "output_type": "execute_result",
          "data": {
            "text/plain": [
              "                umur   Tinggi_Badan\n",
              "count  120999.000000  120999.000000\n",
              "mean       30.173803      88.655434\n",
              "std        17.575119      17.300997\n",
              "min         0.000000      40.010437\n",
              "25%        15.000000      77.000000\n",
              "50%        30.000000      89.800000\n",
              "75%        45.000000     101.200000\n",
              "max        60.000000     128.000000"
            ],
            "text/html": [
              "\n",
              "  <div id=\"df-1426f94c-d62d-440e-86a2-3b11187cd85c\" class=\"colab-df-container\">\n",
              "    <div>\n",
              "<style scoped>\n",
              "    .dataframe tbody tr th:only-of-type {\n",
              "        vertical-align: middle;\n",
              "    }\n",
              "\n",
              "    .dataframe tbody tr th {\n",
              "        vertical-align: top;\n",
              "    }\n",
              "\n",
              "    .dataframe thead th {\n",
              "        text-align: right;\n",
              "    }\n",
              "</style>\n",
              "<table border=\"1\" class=\"dataframe\">\n",
              "  <thead>\n",
              "    <tr style=\"text-align: right;\">\n",
              "      <th></th>\n",
              "      <th>umur</th>\n",
              "      <th>Tinggi_Badan</th>\n",
              "    </tr>\n",
              "  </thead>\n",
              "  <tbody>\n",
              "    <tr>\n",
              "      <th>count</th>\n",
              "      <td>120999.000000</td>\n",
              "      <td>120999.000000</td>\n",
              "    </tr>\n",
              "    <tr>\n",
              "      <th>mean</th>\n",
              "      <td>30.173803</td>\n",
              "      <td>88.655434</td>\n",
              "    </tr>\n",
              "    <tr>\n",
              "      <th>std</th>\n",
              "      <td>17.575119</td>\n",
              "      <td>17.300997</td>\n",
              "    </tr>\n",
              "    <tr>\n",
              "      <th>min</th>\n",
              "      <td>0.000000</td>\n",
              "      <td>40.010437</td>\n",
              "    </tr>\n",
              "    <tr>\n",
              "      <th>25%</th>\n",
              "      <td>15.000000</td>\n",
              "      <td>77.000000</td>\n",
              "    </tr>\n",
              "    <tr>\n",
              "      <th>50%</th>\n",
              "      <td>30.000000</td>\n",
              "      <td>89.800000</td>\n",
              "    </tr>\n",
              "    <tr>\n",
              "      <th>75%</th>\n",
              "      <td>45.000000</td>\n",
              "      <td>101.200000</td>\n",
              "    </tr>\n",
              "    <tr>\n",
              "      <th>max</th>\n",
              "      <td>60.000000</td>\n",
              "      <td>128.000000</td>\n",
              "    </tr>\n",
              "  </tbody>\n",
              "</table>\n",
              "</div>\n",
              "    <div class=\"colab-df-buttons\">\n",
              "\n",
              "  <div class=\"colab-df-container\">\n",
              "    <button class=\"colab-df-convert\" onclick=\"convertToInteractive('df-1426f94c-d62d-440e-86a2-3b11187cd85c')\"\n",
              "            title=\"Convert this dataframe to an interactive table.\"\n",
              "            style=\"display:none;\">\n",
              "\n",
              "  <svg xmlns=\"http://www.w3.org/2000/svg\" height=\"24px\" viewBox=\"0 -960 960 960\">\n",
              "    <path d=\"M120-120v-720h720v720H120Zm60-500h600v-160H180v160Zm220 220h160v-160H400v160Zm0 220h160v-160H400v160ZM180-400h160v-160H180v160Zm440 0h160v-160H620v160ZM180-180h160v-160H180v160Zm440 0h160v-160H620v160Z\"/>\n",
              "  </svg>\n",
              "    </button>\n",
              "\n",
              "  <style>\n",
              "    .colab-df-container {\n",
              "      display:flex;\n",
              "      gap: 12px;\n",
              "    }\n",
              "\n",
              "    .colab-df-convert {\n",
              "      background-color: #E8F0FE;\n",
              "      border: none;\n",
              "      border-radius: 50%;\n",
              "      cursor: pointer;\n",
              "      display: none;\n",
              "      fill: #1967D2;\n",
              "      height: 32px;\n",
              "      padding: 0 0 0 0;\n",
              "      width: 32px;\n",
              "    }\n",
              "\n",
              "    .colab-df-convert:hover {\n",
              "      background-color: #E2EBFA;\n",
              "      box-shadow: 0px 1px 2px rgba(60, 64, 67, 0.3), 0px 1px 3px 1px rgba(60, 64, 67, 0.15);\n",
              "      fill: #174EA6;\n",
              "    }\n",
              "\n",
              "    .colab-df-buttons div {\n",
              "      margin-bottom: 4px;\n",
              "    }\n",
              "\n",
              "    [theme=dark] .colab-df-convert {\n",
              "      background-color: #3B4455;\n",
              "      fill: #D2E3FC;\n",
              "    }\n",
              "\n",
              "    [theme=dark] .colab-df-convert:hover {\n",
              "      background-color: #434B5C;\n",
              "      box-shadow: 0px 1px 3px 1px rgba(0, 0, 0, 0.15);\n",
              "      filter: drop-shadow(0px 1px 2px rgba(0, 0, 0, 0.3));\n",
              "      fill: #FFFFFF;\n",
              "    }\n",
              "  </style>\n",
              "\n",
              "    <script>\n",
              "      const buttonEl =\n",
              "        document.querySelector('#df-1426f94c-d62d-440e-86a2-3b11187cd85c button.colab-df-convert');\n",
              "      buttonEl.style.display =\n",
              "        google.colab.kernel.accessAllowed ? 'block' : 'none';\n",
              "\n",
              "      async function convertToInteractive(key) {\n",
              "        const element = document.querySelector('#df-1426f94c-d62d-440e-86a2-3b11187cd85c');\n",
              "        const dataTable =\n",
              "          await google.colab.kernel.invokeFunction('convertToInteractive',\n",
              "                                                    [key], {});\n",
              "        if (!dataTable) return;\n",
              "\n",
              "        const docLinkHtml = 'Like what you see? Visit the ' +\n",
              "          '<a target=\"_blank\" href=https://colab.research.google.com/notebooks/data_table.ipynb>data table notebook</a>'\n",
              "          + ' to learn more about interactive tables.';\n",
              "        element.innerHTML = '';\n",
              "        dataTable['output_type'] = 'display_data';\n",
              "        await google.colab.output.renderOutput(dataTable, element);\n",
              "        const docLink = document.createElement('div');\n",
              "        docLink.innerHTML = docLinkHtml;\n",
              "        element.appendChild(docLink);\n",
              "      }\n",
              "    </script>\n",
              "  </div>\n",
              "\n",
              "\n",
              "<div id=\"df-56e012bc-a4ac-4f6c-b9bd-56134be9f741\">\n",
              "  <button class=\"colab-df-quickchart\" onclick=\"quickchart('df-56e012bc-a4ac-4f6c-b9bd-56134be9f741')\"\n",
              "            title=\"Suggest charts\"\n",
              "            style=\"display:none;\">\n",
              "\n",
              "<svg xmlns=\"http://www.w3.org/2000/svg\" height=\"24px\"viewBox=\"0 0 24 24\"\n",
              "     width=\"24px\">\n",
              "    <g>\n",
              "        <path d=\"M19 3H5c-1.1 0-2 .9-2 2v14c0 1.1.9 2 2 2h14c1.1 0 2-.9 2-2V5c0-1.1-.9-2-2-2zM9 17H7v-7h2v7zm4 0h-2V7h2v10zm4 0h-2v-4h2v4z\"/>\n",
              "    </g>\n",
              "</svg>\n",
              "  </button>\n",
              "\n",
              "<style>\n",
              "  .colab-df-quickchart {\n",
              "      --bg-color: #E8F0FE;\n",
              "      --fill-color: #1967D2;\n",
              "      --hover-bg-color: #E2EBFA;\n",
              "      --hover-fill-color: #174EA6;\n",
              "      --disabled-fill-color: #AAA;\n",
              "      --disabled-bg-color: #DDD;\n",
              "  }\n",
              "\n",
              "  [theme=dark] .colab-df-quickchart {\n",
              "      --bg-color: #3B4455;\n",
              "      --fill-color: #D2E3FC;\n",
              "      --hover-bg-color: #434B5C;\n",
              "      --hover-fill-color: #FFFFFF;\n",
              "      --disabled-bg-color: #3B4455;\n",
              "      --disabled-fill-color: #666;\n",
              "  }\n",
              "\n",
              "  .colab-df-quickchart {\n",
              "    background-color: var(--bg-color);\n",
              "    border: none;\n",
              "    border-radius: 50%;\n",
              "    cursor: pointer;\n",
              "    display: none;\n",
              "    fill: var(--fill-color);\n",
              "    height: 32px;\n",
              "    padding: 0;\n",
              "    width: 32px;\n",
              "  }\n",
              "\n",
              "  .colab-df-quickchart:hover {\n",
              "    background-color: var(--hover-bg-color);\n",
              "    box-shadow: 0 1px 2px rgba(60, 64, 67, 0.3), 0 1px 3px 1px rgba(60, 64, 67, 0.15);\n",
              "    fill: var(--button-hover-fill-color);\n",
              "  }\n",
              "\n",
              "  .colab-df-quickchart-complete:disabled,\n",
              "  .colab-df-quickchart-complete:disabled:hover {\n",
              "    background-color: var(--disabled-bg-color);\n",
              "    fill: var(--disabled-fill-color);\n",
              "    box-shadow: none;\n",
              "  }\n",
              "\n",
              "  .colab-df-spinner {\n",
              "    border: 2px solid var(--fill-color);\n",
              "    border-color: transparent;\n",
              "    border-bottom-color: var(--fill-color);\n",
              "    animation:\n",
              "      spin 1s steps(1) infinite;\n",
              "  }\n",
              "\n",
              "  @keyframes spin {\n",
              "    0% {\n",
              "      border-color: transparent;\n",
              "      border-bottom-color: var(--fill-color);\n",
              "      border-left-color: var(--fill-color);\n",
              "    }\n",
              "    20% {\n",
              "      border-color: transparent;\n",
              "      border-left-color: var(--fill-color);\n",
              "      border-top-color: var(--fill-color);\n",
              "    }\n",
              "    30% {\n",
              "      border-color: transparent;\n",
              "      border-left-color: var(--fill-color);\n",
              "      border-top-color: var(--fill-color);\n",
              "      border-right-color: var(--fill-color);\n",
              "    }\n",
              "    40% {\n",
              "      border-color: transparent;\n",
              "      border-right-color: var(--fill-color);\n",
              "      border-top-color: var(--fill-color);\n",
              "    }\n",
              "    60% {\n",
              "      border-color: transparent;\n",
              "      border-right-color: var(--fill-color);\n",
              "    }\n",
              "    80% {\n",
              "      border-color: transparent;\n",
              "      border-right-color: var(--fill-color);\n",
              "      border-bottom-color: var(--fill-color);\n",
              "    }\n",
              "    90% {\n",
              "      border-color: transparent;\n",
              "      border-bottom-color: var(--fill-color);\n",
              "    }\n",
              "  }\n",
              "</style>\n",
              "\n",
              "  <script>\n",
              "    async function quickchart(key) {\n",
              "      const quickchartButtonEl =\n",
              "        document.querySelector('#' + key + ' button');\n",
              "      quickchartButtonEl.disabled = true;  // To prevent multiple clicks.\n",
              "      quickchartButtonEl.classList.add('colab-df-spinner');\n",
              "      try {\n",
              "        const charts = await google.colab.kernel.invokeFunction(\n",
              "            'suggestCharts', [key], {});\n",
              "      } catch (error) {\n",
              "        console.error('Error during call to suggestCharts:', error);\n",
              "      }\n",
              "      quickchartButtonEl.classList.remove('colab-df-spinner');\n",
              "      quickchartButtonEl.classList.add('colab-df-quickchart-complete');\n",
              "    }\n",
              "    (() => {\n",
              "      let quickchartButtonEl =\n",
              "        document.querySelector('#df-56e012bc-a4ac-4f6c-b9bd-56134be9f741 button');\n",
              "      quickchartButtonEl.style.display =\n",
              "        google.colab.kernel.accessAllowed ? 'block' : 'none';\n",
              "    })();\n",
              "  </script>\n",
              "</div>\n",
              "    </div>\n",
              "  </div>\n"
            ],
            "application/vnd.google.colaboratory.intrinsic+json": {
              "type": "dataframe",
              "summary": "{\n  \"name\": \"raw_data\",\n  \"rows\": 8,\n  \"fields\": [\n    {\n      \"column\": \"umur\",\n      \"properties\": {\n        \"dtype\": \"number\",\n        \"std\": 42769.62285928117,\n        \"min\": 0.0,\n        \"max\": 120999.0,\n        \"num_unique_values\": 8,\n        \"samples\": [\n          30.17380308928173,\n          30.0,\n          120999.0\n        ],\n        \"semantic_type\": \"\",\n        \"description\": \"\"\n      }\n    },\n    {\n      \"column\": \"Tinggi_Badan\",\n      \"properties\": {\n        \"dtype\": \"number\",\n        \"std\": 42752.24731106105,\n        \"min\": 17.300996903253004,\n        \"max\": 120999.0,\n        \"num_unique_values\": 8,\n        \"samples\": [\n          88.6554341471572,\n          89.8,\n          120999.0\n        ],\n        \"semantic_type\": \"\",\n        \"description\": \"\"\n      }\n    }\n  ]\n}"
            }
          },
          "metadata": {},
          "execution_count": 6
        }
      ],
      "source": [
        "raw_data.describe()"
      ]
    },
    {
      "cell_type": "code",
      "execution_count": 7,
      "metadata": {
        "colab": {
          "base_uri": "https://localhost:8080/"
        },
        "id": "f4Njsmr_Czx0",
        "outputId": "5c1489cc-b7e8-4c1a-cef0-436420bcc35f"
      },
      "outputs": [
        {
          "output_type": "execute_result",
          "data": {
            "text/plain": [
              "array(['laki-laki', 'perempuan'], dtype=object)"
            ]
          },
          "metadata": {},
          "execution_count": 7
        }
      ],
      "source": [
        "raw_data[\"Jenis_Kelamin\"].unique()"
      ]
    },
    {
      "cell_type": "code",
      "execution_count": 8,
      "metadata": {
        "colab": {
          "base_uri": "https://localhost:8080/"
        },
        "id": "NV9CmROcttzA",
        "outputId": "f0739158-d878-415c-9b27-e60a050c8b4b"
      },
      "outputs": [
        {
          "output_type": "execute_result",
          "data": {
            "text/plain": [
              "umur             0\n",
              "Jenis_Kelamin    0\n",
              "Tinggi_Badan     0\n",
              "Status_Gizi      0\n",
              "dtype: int64"
            ]
          },
          "metadata": {},
          "execution_count": 8
        }
      ],
      "source": [
        "raw_data.isna().sum()"
      ]
    },
    {
      "cell_type": "code",
      "execution_count": 9,
      "metadata": {
        "colab": {
          "base_uri": "https://localhost:8080/"
        },
        "id": "L4TDVBsm3S90",
        "outputId": "4e9badbe-94a7-4fbb-847b-8b4710838686"
      },
      "outputs": [
        {
          "output_type": "stream",
          "name": "stdout",
          "text": [
            "Jumlah duplikasi:  81574\n"
          ]
        }
      ],
      "source": [
        "print(\"Jumlah duplikasi: \", raw_data.duplicated().sum())"
      ]
    },
    {
      "cell_type": "code",
      "execution_count": 10,
      "metadata": {
        "id": "f4DtuxaoJvCB"
      },
      "outputs": [],
      "source": [
        "raw_data = raw_data.drop_duplicates()"
      ]
    },
    {
      "cell_type": "code",
      "source": [
        "raw_data.groupby('Status_Gizi').size().plot(kind='barh', color=sns.palettes.mpl_palette('Dark2'))\n",
        "plt.gca().spines[['top', 'right',]].set_visible(False)"
      ],
      "metadata": {
        "colab": {
          "base_uri": "https://localhost:8080/",
          "height": 430
        },
        "id": "Lj13YRNYlZ5h",
        "outputId": "511bb901-fb90-4d07-a112-6600bd8e1ce8"
      },
      "execution_count": 11,
      "outputs": [
        {
          "output_type": "display_data",
          "data": {
            "text/plain": [
              "<Figure size 640x480 with 1 Axes>"
            ],
            "image/png": "[encoded data removed]"
          },
          "metadata": {}
        }
      ]
    },
    {
      "cell_type": "markdown",
      "metadata": {
        "id": "SAqCZXGhrZAM"
      },
      "source": [
        "# Feature Preparation"
      ]
    },
    {
      "cell_type": "markdown",
      "metadata": {
        "id": "OEfbl_D-K5O8"
      },
      "source": [
        "Convert the category column to numeric"
      ]
    },
    {
      "cell_type": "code",
      "execution_count": 12,
      "metadata": {
        "id": "xHfOHHxUTNF2"
      },
      "outputs": [],
      "source": [
        "gender = [0 if kategori == \"laki-laki\" else 1 for kategori in raw_data[\"Jenis_Kelamin\"]]\n",
        "raw_data[\"Jenis_Kelamin\"] = gender"
      ]
    },
    {
      "cell_type": "code",
      "execution_count": 13,
      "metadata": {
        "id": "j6pkeNILKua3"
      },
      "outputs": [],
      "source": [
        "category = [0 if kategori == \"normal\" else 1 if kategori == \"tinggi\" else 2 if kategori == \"stunted\" else 3 for kategori in raw_data[\"Status_Gizi\"]]\n",
        "raw_data[\"Status_Gizi\"] = category"
      ]
    },
    {
      "cell_type": "markdown",
      "metadata": {
        "id": "CGPP6rC0rlkz"
      },
      "source": [
        "Split data"
      ]
    },
    {
      "cell_type": "code",
      "execution_count": 14,
      "metadata": {
        "colab": {
          "base_uri": "https://localhost:8080/"
        },
        "id": "bA8ISzoaub_B",
        "outputId": "c72100a6-100f-4f86-af2c-ad7a2f7bbb31"
      },
      "outputs": [
        {
          "output_type": "stream",
          "name": "stdout",
          "text": [
            "30159 train examples\n",
            "5323 validation examples\n",
            "3943 test examples\n"
          ]
        }
      ],
      "source": [
        "train, test = train_test_split(raw_data, test_size=0.1, random_state=42)\n",
        "train, val = train_test_split(train, test_size=0.15, random_state=42)\n",
        "print(len(train), 'train examples')\n",
        "print(len(val), 'validation examples')\n",
        "print(len(test), 'test examples')"
      ]
    },
    {
      "cell_type": "markdown",
      "metadata": {
        "id": "noG9mHCg9gVk"
      },
      "source": [
        "Handling class imbalance with class weighting"
      ]
    },
    {
      "cell_type": "code",
      "execution_count": 15,
      "metadata": {
        "id": "hHTByeDAGjl3"
      },
      "outputs": [],
      "source": [
        "def calculate_class_weights(label_column):\n",
        "  unique_classes, class_counts = np.unique(label_column, return_counts=True)\n",
        "  total_samples = len(label_column)\n",
        "  class_weights = {}\n",
        "\n",
        "  for class_label, class_count in zip(unique_classes, class_counts):\n",
        "      class_weight = total_samples / (2.0 * class_count)\n",
        "      class_weights[class_label] = class_weight\n",
        "\n",
        "  return class_weights"
      ]
    },
    {
      "cell_type": "code",
      "execution_count": 16,
      "metadata": {
        "id": "iZllzzx7M2hE"
      },
      "outputs": [],
      "source": [
        "class_weights = calculate_class_weights(train['Status_Gizi'])"
      ]
    },
    {
      "cell_type": "markdown",
      "metadata": {
        "id": "bn1i1JL8vm6T"
      },
      "source": [
        "Input pipeline"
      ]
    },
    {
      "cell_type": "code",
      "execution_count": 17,
      "metadata": {
        "id": "2sIaPezlDmGV"
      },
      "outputs": [],
      "source": [
        "def df_to_dataset(dataframe, shuffle=True, batch_size=32):\n",
        "  dataframe = dataframe.copy()\n",
        "  labels = dataframe.pop('Status_Gizi')\n",
        "  ds = tf.data.Dataset.from_tensor_slices((dict(dataframe), labels))\n",
        "  if shuffle:\n",
        "    ds = ds.shuffle(buffer_size=len(dataframe))\n",
        "  ds = ds.batch(batch_size)\n",
        "  return ds"
      ]
    },
    {
      "cell_type": "markdown",
      "metadata": {
        "id": "wDGdctV19Tul"
      },
      "source": [
        "Choosing feature columns"
      ]
    },
    {
      "cell_type": "code",
      "execution_count": 18,
      "metadata": {
        "id": "ScmorkuSpPpo",
        "colab": {
          "base_uri": "https://localhost:8080/"
        },
        "outputId": "726499b8-5586-4ce6-e258-93e0001be8c0"
      },
      "outputs": [
        {
          "output_type": "stream",
          "name": "stderr",
          "text": [
            "WARNING:tensorflow:From <ipython-input-18-4c317a20f3ca>:3: numeric_column (from tensorflow.python.feature_column.feature_column_v2) is deprecated and will be removed in a future version.\n",
            "Instructions for updating:\n",
            "Use Keras preprocessing layers instead, either directly or via the `tf.keras.utils.FeatureSpace` utility. Each of `tf.feature_column.*` has a functional equivalent in `tf.keras.layers` for feature preprocessing when training a Keras model.\n"
          ]
        }
      ],
      "source": [
        "feature_columns = []\n",
        "for columns in ['umur', 'Jenis_Kelamin', 'Tinggi_Badan']:\n",
        "    feature_columns.append(feature_column.numeric_column(columns))"
      ]
    },
    {
      "cell_type": "markdown",
      "metadata": {
        "id": "cMAcrhlr9Z2O"
      },
      "source": [
        "Create a feature layer"
      ]
    },
    {
      "cell_type": "code",
      "execution_count": 19,
      "metadata": {
        "id": "NEwoINpmwO9x"
      },
      "outputs": [],
      "source": [
        "batch_size = 256\n",
        "train_ds = df_to_dataset(train, batch_size=batch_size)\n",
        "val_ds = df_to_dataset(val, shuffle=False, batch_size=batch_size)\n",
        "test_ds = df_to_dataset(test, shuffle=False, batch_size=batch_size)"
      ]
    },
    {
      "cell_type": "markdown",
      "metadata": {
        "id": "oadRnnhu9gT1"
      },
      "source": [
        "# Modeling"
      ]
    },
    {
      "cell_type": "markdown",
      "source": [
        "Normalization process"
      ],
      "metadata": {
        "id": "_a_T3DTLj1au"
      }
    },
    {
      "cell_type": "code",
      "source": [
        "# Variables for normalization\n",
        "umur_mean = train[\"umur\"].mean()\n",
        "umur_std = train[\"umur\"].std()\n",
        "tinggi_badan_mean = train[\"Tinggi_Badan\"].mean()\n",
        "tinggi_badan_std = train[\"Tinggi_Badan\"].std()\n",
        "\n",
        "# Initializing the inputs\n",
        "umur_input = tf.keras.Input(shape=(1,), name='umur')\n",
        "jenis_kelamin_input = tf.keras.Input(shape=(1,), name='Jenis_Kelamin')\n",
        "tinggi_badan_input = tf.keras.Input(shape=(1,), name='Tinggi_Badan')\n",
        "\n",
        "# Normalizing the inputs\n",
        "normalized_umur = tf.keras.layers.Lambda(lambda x: (x - umur_mean) / umur_std, name='normalize_umur')(umur_input)\n",
        "normalized_tinggi_badan = tf.keras.layers.Lambda(lambda x: (x - tinggi_badan_mean) / tinggi_badan_std, name='normalize_tinggi_badan')(tinggi_badan_input)\n",
        "\n",
        "# Combining all the inputs\n",
        "combined_inputs = tf.keras.layers.Concatenate(name='combine_input')([normalized_umur, jenis_kelamin_input, normalized_tinggi_badan])"
      ],
      "metadata": {
        "id": "xrWE9ZQUIo0Q"
      },
      "execution_count": 21,
      "outputs": []
    },
    {
      "cell_type": "markdown",
      "source": [
        "Model architecture"
      ],
      "metadata": {
        "id": "d37Zd6RKj4Fc"
      }
    },
    {
      "cell_type": "code",
      "execution_count": 28,
      "metadata": {
        "id": "iRTJPs4MMzlY"
      },
      "outputs": [],
      "source": [
        "x = tf.keras.layers.Dense(64, activation='relu', kernel_regularizer='l2')(combined_inputs)\n",
        "x = tf.keras.layers.Dropout(.35)(x)\n",
        "x = tf.keras.layers.Dense(128, activation='relu', kernel_regularizer='l2')(x)\n",
        "x = tf.keras.layers.Dense(128, activation='relu', kernel_regularizer='l2')(x)\n",
        "x = tf.keras.layers.Dense(64, activation='relu', kernel_regularizer='l2')(x)\n",
        "x = tf.keras.layers.Dropout(.35)(x)\n",
        "output = tf.keras.layers.Dense(4, activation='softmax', name='output')(x)\n",
        "\n",
        "model = keras.Model(inputs=[umur_input, jenis_kelamin_input, tinggi_badan_input], outputs=output)\n",
        "\n",
        "model.compile(optimizer=keras.optimizers.Adam(learning_rate=0.005,\n",
        "                                              beta_1=0.9,\n",
        "                                              beta_2=0.999,\n",
        "                                              amsgrad=True,\n",
        "                                              use_ema=True,\n",
        "                                              ema_momentum=0.99),\n",
        "              loss='sparse_categorical_crossentropy',\n",
        "              metrics=['acc'])"
      ]
    },
    {
      "cell_type": "code",
      "execution_count": 29,
      "metadata": {
        "colab": {
          "base_uri": "https://localhost:8080/"
        },
        "id": "4E_0HmRKMiYS",
        "outputId": "abdc8fba-8ca1-4b81-9182-02937539c642"
      },
      "outputs": [
        {
          "output_type": "stream",
          "name": "stdout",
          "text": [
            "Model: \"model_1\"\n",
            "__________________________________________________________________________________________________\n",
            " Layer (type)                Output Shape                 Param #   Connected to                  \n",
            "==================================================================================================\n",
            " umur (InputLayer)           [(None, 1)]                  0         []                            \n",
            "                                                                                                  \n",
            " Tinggi_Badan (InputLayer)   [(None, 1)]                  0         []                            \n",
            "                                                                                                  \n",
            " normalize_umur (Lambda)     (None, 1)                    0         ['umur[0][0]']                \n",
            "                                                                                                  \n",
            " Jenis_Kelamin (InputLayer)  [(None, 1)]                  0         []                            \n",
            "                                                                                                  \n",
            " normalize_tinggi_badan (La  (None, 1)                    0         ['Tinggi_Badan[0][0]']        \n",
            " mbda)                                                                                            \n",
            "                                                                                                  \n",
            " combine_input (Concatenate  (None, 3)                    0         ['normalize_umur[0][0]',      \n",
            " )                                                                   'Jenis_Kelamin[0][0]',       \n",
            "                                                                     'normalize_tinggi_badan[0][0]\n",
            "                                                                    ']                            \n",
            "                                                                                                  \n",
            " dense_4 (Dense)             (None, 64)                   256       ['combine_input[0][0]']       \n",
            "                                                                                                  \n",
            " dropout_2 (Dropout)         (None, 64)                   0         ['dense_4[0][0]']             \n",
            "                                                                                                  \n",
            " dense_5 (Dense)             (None, 128)                  8320      ['dropout_2[0][0]']           \n",
            "                                                                                                  \n",
            " dense_6 (Dense)             (None, 128)                  16512     ['dense_5[0][0]']             \n",
            "                                                                                                  \n",
            " dense_7 (Dense)             (None, 64)                   8256      ['dense_6[0][0]']             \n",
            "                                                                                                  \n",
            " dropout_3 (Dropout)         (None, 64)                   0         ['dense_7[0][0]']             \n",
            "                                                                                                  \n",
            " output (Dense)              (None, 4)                    260       ['dropout_3[0][0]']           \n",
            "                                                                                                  \n",
            "==================================================================================================\n",
            "Total params: 33604 (131.27 KB)\n",
            "Trainable params: 33604 (131.27 KB)\n",
            "Non-trainable params: 0 (0.00 Byte)\n",
            "__________________________________________________________________________________________________\n"
          ]
        }
      ],
      "source": [
        "model.summary()"
      ]
    },
    {
      "cell_type": "code",
      "source": [
        "plot_model(model, to_file='model.png')"
      ],
      "metadata": {
        "colab": {
          "base_uri": "https://localhost:8080/",
          "height": 953
        },
        "id": "k3PGy2YfmhPN",
        "outputId": "e8ea83aa-d45d-4b46-854a-f4522b896d15"
      },
      "execution_count": 24,
      "outputs": [
        {
          "output_type": "execute_result",
          "data": {
            "image/png": "[encoded data removed]",
            "text/plain": [
              "<IPython.core.display.Image object>"
            ]
          },
          "metadata": {},
          "execution_count": 24
        }
      ]
    },
    {
      "cell_type": "markdown",
      "source": [
        "Model train"
      ],
      "metadata": {
        "id": "v0U8LhYJkKrE"
      }
    },
    {
      "cell_type": "code",
      "execution_count": 30,
      "metadata": {
        "colab": {
          "base_uri": "https://localhost:8080/"
        },
        "id": "jrilscQRwe2W",
        "outputId": "8a9560ab-6c08-458a-ef33-dd5cf52561d4"
      },
      "outputs": [
        {
          "output_type": "stream",
          "name": "stdout",
          "text": [
            "Epoch 1/150\n",
            "118/118 [==============================] - 3s 10ms/step - loss: 2.0191 - acc: 0.6628 - val_loss: 0.9306 - val_acc: 0.7385\n",
            "Epoch 2/150\n",
            "118/118 [==============================] - 1s 8ms/step - loss: 1.1927 - acc: 0.7961 - val_loss: 0.6740 - val_acc: 0.8505\n",
            "Epoch 3/150\n",
            "118/118 [==============================] - 2s 13ms/step - loss: 1.0979 - acc: 0.8104 - val_loss: 0.6995 - val_acc: 0.8232\n",
            "Epoch 4/150\n",
            "118/118 [==============================] - 1s 9ms/step - loss: 1.0292 - acc: 0.8241 - val_loss: 0.6027 - val_acc: 0.8739\n",
            "Epoch 5/150\n",
            "118/118 [==============================] - 1s 8ms/step - loss: 1.0093 - acc: 0.8260 - val_loss: 0.6482 - val_acc: 0.8510\n",
            "Epoch 6/150\n",
            "118/118 [==============================] - 1s 8ms/step - loss: 0.9660 - acc: 0.8363 - val_loss: 0.6540 - val_acc: 0.8347\n",
            "Epoch 7/150\n",
            "118/118 [==============================] - 1s 8ms/step - loss: 0.9567 - acc: 0.8347 - val_loss: 0.6869 - val_acc: 0.8234\n",
            "Epoch 8/150\n",
            "118/118 [==============================] - 2s 14ms/step - loss: 0.9624 - acc: 0.8382 - val_loss: 0.5899 - val_acc: 0.8593\n",
            "Epoch 9/150\n",
            "118/118 [==============================] - 1s 8ms/step - loss: 0.9484 - acc: 0.8390 - val_loss: 0.5464 - val_acc: 0.8815\n",
            "Epoch 10/150\n",
            "118/118 [==============================] - 1s 8ms/step - loss: 0.8892 - acc: 0.8502 - val_loss: 0.6060 - val_acc: 0.8510\n",
            "Epoch 11/150\n",
            "118/118 [==============================] - 1s 8ms/step - loss: 0.8982 - acc: 0.8473 - val_loss: 0.4919 - val_acc: 0.9125\n",
            "Epoch 12/150\n",
            "118/118 [==============================] - 2s 18ms/step - loss: 0.9063 - acc: 0.8462 - val_loss: 0.5037 - val_acc: 0.9059\n",
            "Epoch 13/150\n",
            "118/118 [==============================] - 2s 17ms/step - loss: 0.8947 - acc: 0.8471 - val_loss: 0.5831 - val_acc: 0.8754\n",
            "Epoch 14/150\n",
            "118/118 [==============================] - 2s 13ms/step - loss: 0.8731 - acc: 0.8546 - val_loss: 0.5244 - val_acc: 0.8818\n",
            "Epoch 15/150\n",
            "118/118 [==============================] - 2s 16ms/step - loss: 0.8893 - acc: 0.8468 - val_loss: 0.4921 - val_acc: 0.9145\n",
            "Epoch 16/150\n",
            "118/118 [==============================] - 2s 15ms/step - loss: 0.8639 - acc: 0.8518 - val_loss: 0.5185 - val_acc: 0.8873\n",
            "Epoch 17/150\n",
            "118/118 [==============================] - 2s 12ms/step - loss: 0.8590 - acc: 0.8528 - val_loss: 0.4792 - val_acc: 0.9279\n",
            "Epoch 18/150\n",
            "118/118 [==============================] - 2s 18ms/step - loss: 0.8677 - acc: 0.8531 - val_loss: 0.4986 - val_acc: 0.8935\n",
            "Epoch 19/150\n",
            "118/118 [==============================] - 3s 18ms/step - loss: 0.8472 - acc: 0.8558 - val_loss: 0.5160 - val_acc: 0.8912\n",
            "Epoch 20/150\n",
            "118/118 [==============================] - 1s 8ms/step - loss: 0.8334 - acc: 0.8616 - val_loss: 0.4735 - val_acc: 0.9209\n",
            "Epoch 21/150\n",
            "118/118 [==============================] - 1s 11ms/step - loss: 0.8274 - acc: 0.8601 - val_loss: 0.4902 - val_acc: 0.9059\n",
            "Epoch 22/150\n",
            "118/118 [==============================] - 1s 12ms/step - loss: 0.8387 - acc: 0.8592 - val_loss: 0.4922 - val_acc: 0.9014\n",
            "Epoch 23/150\n",
            "118/118 [==============================] - 2s 15ms/step - loss: 0.8130 - acc: 0.8636 - val_loss: 0.5608 - val_acc: 0.8709\n",
            "Epoch 24/150\n",
            "118/118 [==============================] - 2s 12ms/step - loss: 0.8221 - acc: 0.8611 - val_loss: 0.5351 - val_acc: 0.8721\n",
            "Epoch 25/150\n",
            "118/118 [==============================] - 2s 20ms/step - loss: 0.8321 - acc: 0.8606 - val_loss: 0.4959 - val_acc: 0.8933\n",
            "Epoch 26/150\n",
            "118/118 [==============================] - 2s 18ms/step - loss: 0.8128 - acc: 0.8645 - val_loss: 0.5366 - val_acc: 0.8749\n",
            "Epoch 27/150\n",
            "118/118 [==============================] - 1s 9ms/step - loss: 0.8194 - acc: 0.8640 - val_loss: 0.5010 - val_acc: 0.8959\n",
            "Epoch 28/150\n",
            "118/118 [==============================] - 2s 13ms/step - loss: 0.7930 - acc: 0.8668 - val_loss: 0.4680 - val_acc: 0.9138\n",
            "Epoch 29/150\n",
            "118/118 [==============================] - 1s 10ms/step - loss: 0.8108 - acc: 0.8628 - val_loss: 0.4801 - val_acc: 0.9019\n",
            "Epoch 30/150\n",
            "118/118 [==============================] - 1s 8ms/step - loss: 0.8091 - acc: 0.8624 - val_loss: 0.4706 - val_acc: 0.9089\n",
            "Epoch 31/150\n",
            "118/118 [==============================] - 1s 8ms/step - loss: 0.7906 - acc: 0.8684 - val_loss: 0.5288 - val_acc: 0.8751\n",
            "Epoch 32/150\n",
            "118/118 [==============================] - 1s 8ms/step - loss: 0.8022 - acc: 0.8656 - val_loss: 0.5195 - val_acc: 0.8779\n",
            "Epoch 33/150\n",
            "118/118 [==============================] - 1s 9ms/step - loss: 0.8121 - acc: 0.8622 - val_loss: 0.4768 - val_acc: 0.9001\n",
            "Epoch 34/150\n",
            "118/118 [==============================] - 2s 13ms/step - loss: 0.7986 - acc: 0.8668 - val_loss: 0.5090 - val_acc: 0.8882\n",
            "Epoch 35/150\n",
            "118/118 [==============================] - 1s 8ms/step - loss: 0.8066 - acc: 0.8661 - val_loss: 0.5170 - val_acc: 0.8758\n",
            "Epoch 36/150\n",
            "118/118 [==============================] - 1s 8ms/step - loss: 0.8208 - acc: 0.8622 - val_loss: 0.4506 - val_acc: 0.9183\n",
            "Epoch 37/150\n",
            "118/118 [==============================] - 1s 8ms/step - loss: 0.7896 - acc: 0.8682 - val_loss: 0.5360 - val_acc: 0.8672\n",
            "Epoch 38/150\n",
            "118/118 [==============================] - 1s 8ms/step - loss: 0.7913 - acc: 0.8640 - val_loss: 0.4593 - val_acc: 0.9130\n",
            "Epoch 39/150\n",
            "118/118 [==============================] - 1s 8ms/step - loss: 0.7887 - acc: 0.8692 - val_loss: 0.4813 - val_acc: 0.8993\n",
            "Epoch 40/150\n",
            "118/118 [==============================] - 1s 8ms/step - loss: 0.7684 - acc: 0.8731 - val_loss: 0.4430 - val_acc: 0.9192\n",
            "Epoch 41/150\n",
            "118/118 [==============================] - 1s 8ms/step - loss: 0.7893 - acc: 0.8700 - val_loss: 0.4927 - val_acc: 0.8865\n",
            "Epoch 42/150\n",
            "118/118 [==============================] - 1s 8ms/step - loss: 0.7727 - acc: 0.8714 - val_loss: 0.4493 - val_acc: 0.9145\n",
            "Epoch 43/150\n",
            "118/118 [==============================] - 1s 9ms/step - loss: 0.7741 - acc: 0.8724 - val_loss: 0.4416 - val_acc: 0.9173\n",
            "Epoch 44/150\n",
            "118/118 [==============================] - 2s 13ms/step - loss: 0.7867 - acc: 0.8705 - val_loss: 0.4534 - val_acc: 0.9194\n",
            "Epoch 45/150\n",
            "118/118 [==============================] - 2s 14ms/step - loss: 0.7774 - acc: 0.8744 - val_loss: 0.5292 - val_acc: 0.8766\n",
            "Epoch 46/150\n",
            "118/118 [==============================] - 1s 8ms/step - loss: 0.7805 - acc: 0.8686 - val_loss: 0.4262 - val_acc: 0.9314\n",
            "Epoch 47/150\n",
            "118/118 [==============================] - 1s 8ms/step - loss: 0.7805 - acc: 0.8721 - val_loss: 0.4294 - val_acc: 0.9339\n",
            "Epoch 48/150\n",
            "118/118 [==============================] - 1s 8ms/step - loss: 0.7736 - acc: 0.8715 - val_loss: 0.4826 - val_acc: 0.8927\n",
            "Epoch 49/150\n",
            "118/118 [==============================] - 1s 8ms/step - loss: 0.7807 - acc: 0.8695 - val_loss: 0.4371 - val_acc: 0.9301\n",
            "Epoch 50/150\n",
            "118/118 [==============================] - 1s 8ms/step - loss: 0.7588 - acc: 0.8754 - val_loss: 0.4359 - val_acc: 0.9250\n",
            "Epoch 51/150\n",
            "118/118 [==============================] - 1s 8ms/step - loss: 0.7760 - acc: 0.8708 - val_loss: 0.4943 - val_acc: 0.8803\n",
            "Epoch 52/150\n",
            "118/118 [==============================] - 1s 8ms/step - loss: 0.7596 - acc: 0.8762 - val_loss: 0.4593 - val_acc: 0.9098\n",
            "Epoch 53/150\n",
            "118/118 [==============================] - 1s 8ms/step - loss: 0.7723 - acc: 0.8744 - val_loss: 0.4472 - val_acc: 0.9108\n",
            "Epoch 54/150\n",
            "118/118 [==============================] - 1s 11ms/step - loss: 0.7818 - acc: 0.8710 - val_loss: 0.4393 - val_acc: 0.9232\n",
            "Epoch 55/150\n",
            "118/118 [==============================] - 2s 13ms/step - loss: 0.7570 - acc: 0.8755 - val_loss: 0.4519 - val_acc: 0.9079\n",
            "Epoch 56/150\n",
            "118/118 [==============================] - 2s 11ms/step - loss: 0.7674 - acc: 0.8719 - val_loss: 0.4400 - val_acc: 0.9218\n",
            "Epoch 57/150\n",
            "118/118 [==============================] - 2s 13ms/step - loss: 0.7517 - acc: 0.8756 - val_loss: 0.4632 - val_acc: 0.9012\n",
            "Epoch 58/150\n",
            "118/118 [==============================] - 1s 9ms/step - loss: 0.7683 - acc: 0.8738 - val_loss: 0.4281 - val_acc: 0.9250\n",
            "Epoch 59/150\n",
            "118/118 [==============================] - 1s 10ms/step - loss: 0.7781 - acc: 0.8742 - val_loss: 0.4647 - val_acc: 0.9014\n",
            "Epoch 60/150\n",
            "118/118 [==============================] - 2s 17ms/step - loss: 0.7717 - acc: 0.8750 - val_loss: 0.4312 - val_acc: 0.9256\n",
            "Epoch 61/150\n",
            "118/118 [==============================] - 2s 15ms/step - loss: 0.7700 - acc: 0.8744 - val_loss: 0.4662 - val_acc: 0.9132\n",
            "Epoch 62/150\n",
            "118/118 [==============================] - 2s 19ms/step - loss: 0.7469 - acc: 0.8813 - val_loss: 0.4791 - val_acc: 0.8925\n",
            "Epoch 63/150\n",
            "118/118 [==============================] - 1s 10ms/step - loss: 0.7512 - acc: 0.8793 - val_loss: 0.4486 - val_acc: 0.9170\n",
            "Epoch 64/150\n",
            "118/118 [==============================] - 1s 8ms/step - loss: 0.7481 - acc: 0.8799 - val_loss: 0.4773 - val_acc: 0.8942\n",
            "Epoch 65/150\n",
            "118/118 [==============================] - 1s 8ms/step - loss: 0.7546 - acc: 0.8792 - val_loss: 0.4251 - val_acc: 0.9324\n",
            "Epoch 66/150\n",
            "118/118 [==============================] - 2s 13ms/step - loss: 0.7396 - acc: 0.8830 - val_loss: 0.4341 - val_acc: 0.9250\n",
            "Epoch 67/150\n",
            "118/118 [==============================] - 1s 8ms/step - loss: 0.7317 - acc: 0.8855 - val_loss: 0.4898 - val_acc: 0.8969\n",
            "Epoch 68/150\n",
            "118/118 [==============================] - 1s 8ms/step - loss: 0.7345 - acc: 0.8846 - val_loss: 0.4417 - val_acc: 0.9230\n",
            "Epoch 69/150\n",
            "118/118 [==============================] - 1s 11ms/step - loss: 0.7284 - acc: 0.8837 - val_loss: 0.4706 - val_acc: 0.9023\n",
            "Epoch 70/150\n",
            "118/118 [==============================] - 1s 10ms/step - loss: 0.7284 - acc: 0.8856 - val_loss: 0.4261 - val_acc: 0.9222\n",
            "Epoch 71/150\n",
            "118/118 [==============================] - 1s 8ms/step - loss: 0.7480 - acc: 0.8824 - val_loss: 0.4246 - val_acc: 0.9367\n",
            "Epoch 72/150\n",
            "118/118 [==============================] - 1s 8ms/step - loss: 0.7348 - acc: 0.8859 - val_loss: 0.4655 - val_acc: 0.9017\n",
            "Epoch 73/150\n",
            "118/118 [==============================] - 1s 9ms/step - loss: 0.7244 - acc: 0.8861 - val_loss: 0.4561 - val_acc: 0.9106\n",
            "Epoch 74/150\n",
            "118/118 [==============================] - 1s 8ms/step - loss: 0.7341 - acc: 0.8855 - val_loss: 0.4371 - val_acc: 0.9160\n",
            "Epoch 75/150\n",
            "118/118 [==============================] - 1s 10ms/step - loss: 0.7380 - acc: 0.8847 - val_loss: 0.4348 - val_acc: 0.9222\n",
            "Epoch 76/150\n",
            "118/118 [==============================] - 2s 19ms/step - loss: 0.7381 - acc: 0.8841 - val_loss: 0.4248 - val_acc: 0.9249\n",
            "Epoch 77/150\n",
            "118/118 [==============================] - 3s 20ms/step - loss: 0.7227 - acc: 0.8884 - val_loss: 0.4870 - val_acc: 0.9001\n",
            "Epoch 78/150\n",
            "118/118 [==============================] - 2s 13ms/step - loss: 0.7585 - acc: 0.8791 - val_loss: 0.4607 - val_acc: 0.9061\n",
            "Epoch 79/150\n",
            "118/118 [==============================] - 1s 8ms/step - loss: 0.7213 - acc: 0.8865 - val_loss: 0.4773 - val_acc: 0.8969\n",
            "Epoch 80/150\n",
            "118/118 [==============================] - 2s 12ms/step - loss: 0.7674 - acc: 0.8784 - val_loss: 0.4769 - val_acc: 0.8991\n",
            "Epoch 81/150\n",
            "118/118 [==============================] - 2s 14ms/step - loss: 0.7160 - acc: 0.8854 - val_loss: 0.4417 - val_acc: 0.9187\n",
            "Epoch 82/150\n",
            "118/118 [==============================] - 1s 8ms/step - loss: 0.7229 - acc: 0.8866 - val_loss: 0.4654 - val_acc: 0.9012\n",
            "Epoch 83/150\n",
            "118/118 [==============================] - 1s 8ms/step - loss: 0.7101 - acc: 0.8900 - val_loss: 0.4368 - val_acc: 0.9181\n",
            "Epoch 84/150\n",
            "118/118 [==============================] - 3s 24ms/step - loss: 0.7300 - acc: 0.8855 - val_loss: 0.4180 - val_acc: 0.9288\n",
            "Epoch 85/150\n",
            "118/118 [==============================] - 2s 20ms/step - loss: 0.7259 - acc: 0.8863 - val_loss: 0.4839 - val_acc: 0.8980\n",
            "Epoch 86/150\n",
            "118/118 [==============================] - 2s 11ms/step - loss: 0.7204 - acc: 0.8865 - val_loss: 0.4607 - val_acc: 0.9081\n",
            "Epoch 87/150\n",
            "118/118 [==============================] - 1s 8ms/step - loss: 0.7236 - acc: 0.8872 - val_loss: 0.4350 - val_acc: 0.9224\n",
            "Epoch 88/150\n",
            "118/118 [==============================] - 1s 8ms/step - loss: 0.7122 - acc: 0.8883 - val_loss: 0.4556 - val_acc: 0.9059\n",
            "Epoch 89/150\n",
            "118/118 [==============================] - 1s 8ms/step - loss: 0.7150 - acc: 0.8862 - val_loss: 0.5125 - val_acc: 0.8858\n",
            "Epoch 90/150\n",
            "118/118 [==============================] - 2s 13ms/step - loss: 0.7358 - acc: 0.8851 - val_loss: 0.4856 - val_acc: 0.8957\n",
            "Epoch 91/150\n",
            "118/118 [==============================] - 1s 11ms/step - loss: 0.7345 - acc: 0.8841 - val_loss: 0.4784 - val_acc: 0.8918\n",
            "Epoch 92/150\n",
            "118/118 [==============================] - 1s 8ms/step - loss: 0.7130 - acc: 0.8891 - val_loss: 0.4377 - val_acc: 0.9130\n",
            "Epoch 93/150\n",
            "118/118 [==============================] - 1s 8ms/step - loss: 0.7129 - acc: 0.8874 - val_loss: 0.4573 - val_acc: 0.9068\n",
            "Epoch 94/150\n",
            "118/118 [==============================] - 1s 8ms/step - loss: 0.7172 - acc: 0.8862 - val_loss: 0.4356 - val_acc: 0.9172\n",
            "Epoch 95/150\n",
            "118/118 [==============================] - 1s 8ms/step - loss: 0.6999 - acc: 0.8897 - val_loss: 0.4225 - val_acc: 0.9235\n",
            "Epoch 96/150\n",
            "118/118 [==============================] - 1s 8ms/step - loss: 0.7129 - acc: 0.8883 - val_loss: 0.4876 - val_acc: 0.8959\n",
            "Epoch 97/150\n",
            "118/118 [==============================] - 1s 8ms/step - loss: 0.7171 - acc: 0.8875 - val_loss: 0.4465 - val_acc: 0.9055\n",
            "Epoch 98/150\n",
            "118/118 [==============================] - 1s 12ms/step - loss: 0.7094 - acc: 0.8873 - val_loss: 0.4624 - val_acc: 0.9049\n",
            "Epoch 99/150\n",
            "118/118 [==============================] - 3s 21ms/step - loss: 0.7196 - acc: 0.8864 - val_loss: 0.4562 - val_acc: 0.9074\n",
            "Epoch 100/150\n",
            "118/118 [==============================] - 1s 8ms/step - loss: 0.6986 - acc: 0.8904 - val_loss: 0.4404 - val_acc: 0.9136\n",
            "Epoch 101/150\n",
            "118/118 [==============================] - 1s 9ms/step - loss: 0.7041 - acc: 0.8909 - val_loss: 0.4814 - val_acc: 0.8937\n",
            "Epoch 102/150\n",
            "118/118 [==============================] - 1s 12ms/step - loss: 0.6874 - acc: 0.8909 - val_loss: 0.4989 - val_acc: 0.8920\n",
            "Epoch 103/150\n",
            "118/118 [==============================] - 1s 11ms/step - loss: 0.7041 - acc: 0.8911 - val_loss: 0.4922 - val_acc: 0.8976\n",
            "Epoch 104/150\n",
            "118/118 [==============================] - 3s 23ms/step - loss: 0.7173 - acc: 0.8855 - val_loss: 0.4671 - val_acc: 0.9042\n",
            "Epoch 105/150\n",
            "118/118 [==============================] - 1s 9ms/step - loss: 0.7113 - acc: 0.8863 - val_loss: 0.4500 - val_acc: 0.9072\n",
            "Epoch 106/150\n",
            "118/118 [==============================] - 1s 8ms/step - loss: 0.6933 - acc: 0.8906 - val_loss: 0.4691 - val_acc: 0.9017\n",
            "Epoch 107/150\n",
            "118/118 [==============================] - 1s 9ms/step - loss: 0.6988 - acc: 0.8916 - val_loss: 0.4365 - val_acc: 0.9188\n",
            "Epoch 108/150\n",
            "118/118 [==============================] - 1s 8ms/step - loss: 0.7043 - acc: 0.8884 - val_loss: 0.5431 - val_acc: 0.8713\n",
            "Epoch 109/150\n",
            "118/118 [==============================] - 1s 8ms/step - loss: 0.7019 - acc: 0.8863 - val_loss: 0.5000 - val_acc: 0.8892\n",
            "Epoch 110/150\n",
            "118/118 [==============================] - 1s 10ms/step - loss: 0.7020 - acc: 0.8887 - val_loss: 0.4281 - val_acc: 0.9173\n",
            "Epoch 111/150\n",
            "118/118 [==============================] - 1s 11ms/step - loss: 0.7188 - acc: 0.8849 - val_loss: 0.5958 - val_acc: 0.8443\n",
            "Epoch 112/150\n",
            "118/118 [==============================] - 2s 13ms/step - loss: 0.7159 - acc: 0.8848 - val_loss: 0.4459 - val_acc: 0.9100\n",
            "Epoch 113/150\n",
            "118/118 [==============================] - 2s 15ms/step - loss: 0.6798 - acc: 0.8947 - val_loss: 0.5081 - val_acc: 0.8878\n",
            "Epoch 114/150\n",
            "118/118 [==============================] - 1s 10ms/step - loss: 0.6955 - acc: 0.8925 - val_loss: 0.4423 - val_acc: 0.9119\n",
            "Epoch 115/150\n",
            "118/118 [==============================] - 1s 11ms/step - loss: 0.6964 - acc: 0.8897 - val_loss: 0.4230 - val_acc: 0.9220\n",
            "Epoch 116/150\n",
            "118/118 [==============================] - 1s 8ms/step - loss: 0.7273 - acc: 0.8861 - val_loss: 0.4660 - val_acc: 0.9001\n",
            "Epoch 117/150\n",
            "118/118 [==============================] - 1s 8ms/step - loss: 0.6877 - acc: 0.8915 - val_loss: 0.4338 - val_acc: 0.9164\n",
            "Epoch 118/150\n",
            "118/118 [==============================] - 1s 8ms/step - loss: 0.6949 - acc: 0.8930 - val_loss: 0.5267 - val_acc: 0.8796\n",
            "Epoch 119/150\n",
            "118/118 [==============================] - 1s 8ms/step - loss: 0.6870 - acc: 0.8903 - val_loss: 0.4712 - val_acc: 0.8963\n",
            "Epoch 120/150\n",
            "118/118 [==============================] - 1s 9ms/step - loss: 0.6905 - acc: 0.8908 - val_loss: 0.4998 - val_acc: 0.8899\n",
            "Epoch 121/150\n",
            "118/118 [==============================] - 1s 12ms/step - loss: 0.6841 - acc: 0.8917 - val_loss: 0.5124 - val_acc: 0.8773\n",
            "Epoch 122/150\n",
            "118/118 [==============================] - 2s 18ms/step - loss: 0.6785 - acc: 0.8942 - val_loss: 0.4963 - val_acc: 0.8785\n",
            "Epoch 123/150\n",
            "118/118 [==============================] - 2s 11ms/step - loss: 0.6911 - acc: 0.8911 - val_loss: 0.4995 - val_acc: 0.8875\n",
            "Epoch 124/150\n",
            "118/118 [==============================] - 2s 13ms/step - loss: 0.6785 - acc: 0.8927 - val_loss: 0.4643 - val_acc: 0.9033\n",
            "Epoch 125/150\n",
            "118/118 [==============================] - 2s 13ms/step - loss: 0.6859 - acc: 0.8923 - val_loss: 0.4677 - val_acc: 0.9031\n",
            "Epoch 126/150\n",
            "118/118 [==============================] - 1s 8ms/step - loss: 0.6700 - acc: 0.8968 - val_loss: 0.4587 - val_acc: 0.9014\n",
            "Epoch 127/150\n",
            "118/118 [==============================] - 1s 8ms/step - loss: 0.6806 - acc: 0.8951 - val_loss: 0.4755 - val_acc: 0.9019\n",
            "Epoch 128/150\n",
            "118/118 [==============================] - 1s 12ms/step - loss: 0.6850 - acc: 0.8919 - val_loss: 0.4635 - val_acc: 0.9006\n",
            "Epoch 129/150\n",
            "118/118 [==============================] - 2s 18ms/step - loss: 0.7045 - acc: 0.8888 - val_loss: 0.5303 - val_acc: 0.8764\n",
            "Epoch 130/150\n",
            "118/118 [==============================] - 2s 18ms/step - loss: 0.7005 - acc: 0.8893 - val_loss: 0.6475 - val_acc: 0.8366\n",
            "Epoch 131/150\n",
            "118/118 [==============================] - 2s 12ms/step - loss: 0.6885 - acc: 0.8911 - val_loss: 0.4429 - val_acc: 0.9136\n",
            "Epoch 132/150\n",
            "118/118 [==============================] - 1s 8ms/step - loss: 0.6710 - acc: 0.8969 - val_loss: 0.4338 - val_acc: 0.9141\n",
            "Epoch 133/150\n",
            "118/118 [==============================] - 1s 9ms/step - loss: 0.6841 - acc: 0.8938 - val_loss: 0.4492 - val_acc: 0.9051\n",
            "Epoch 134/150\n",
            "118/118 [==============================] - 2s 12ms/step - loss: 0.6720 - acc: 0.8941 - val_loss: 0.5315 - val_acc: 0.8711\n",
            "Epoch 135/150\n",
            "118/118 [==============================] - 2s 13ms/step - loss: 0.6866 - acc: 0.8930 - val_loss: 0.4727 - val_acc: 0.9019\n",
            "Epoch 136/150\n",
            "118/118 [==============================] - 2s 15ms/step - loss: 0.6844 - acc: 0.8919 - val_loss: 0.5023 - val_acc: 0.8839\n",
            "Epoch 137/150\n",
            "118/118 [==============================] - 2s 15ms/step - loss: 0.7065 - acc: 0.8869 - val_loss: 0.4574 - val_acc: 0.9110\n",
            "Epoch 138/150\n",
            "118/118 [==============================] - 1s 12ms/step - loss: 0.6930 - acc: 0.8914 - val_loss: 0.4599 - val_acc: 0.9040\n",
            "Epoch 139/150\n",
            "118/118 [==============================] - 1s 8ms/step - loss: 0.6669 - acc: 0.8981 - val_loss: 0.5041 - val_acc: 0.8878\n",
            "Epoch 140/150\n",
            "118/118 [==============================] - 1s 8ms/step - loss: 0.6686 - acc: 0.8980 - val_loss: 0.4996 - val_acc: 0.8839\n",
            "Epoch 141/150\n",
            "118/118 [==============================] - 2s 13ms/step - loss: 0.6714 - acc: 0.8952 - val_loss: 0.4777 - val_acc: 0.8952\n",
            "Epoch 142/150\n",
            "118/118 [==============================] - 2s 12ms/step - loss: 0.6861 - acc: 0.8921 - val_loss: 0.5367 - val_acc: 0.8796\n",
            "Epoch 143/150\n",
            "118/118 [==============================] - 2s 15ms/step - loss: 0.6911 - acc: 0.8911 - val_loss: 0.4593 - val_acc: 0.8991\n",
            "Epoch 144/150\n",
            "118/118 [==============================] - 3s 19ms/step - loss: 0.6710 - acc: 0.8967 - val_loss: 0.4840 - val_acc: 0.8995\n",
            "Epoch 145/150\n",
            "118/118 [==============================] - 2s 13ms/step - loss: 0.6700 - acc: 0.8947 - val_loss: 0.5107 - val_acc: 0.8749\n",
            "Epoch 146/150\n",
            "118/118 [==============================] - 1s 8ms/step - loss: 0.6909 - acc: 0.8918 - val_loss: 0.6583 - val_acc: 0.8354\n",
            "Epoch 147/150\n",
            "118/118 [==============================] - 1s 8ms/step - loss: 0.6815 - acc: 0.8941 - val_loss: 0.4164 - val_acc: 0.9230\n",
            "Epoch 148/150\n",
            "118/118 [==============================] - 1s 8ms/step - loss: 0.6660 - acc: 0.8946 - val_loss: 0.4917 - val_acc: 0.8959\n",
            "Epoch 149/150\n",
            "118/118 [==============================] - 2s 15ms/step - loss: 0.6966 - acc: 0.8883 - val_loss: 0.4802 - val_acc: 0.8946\n",
            "Epoch 150/150\n",
            "118/118 [==============================] - 1s 10ms/step - loss: 0.6712 - acc: 0.8940 - val_loss: 0.5130 - val_acc: 0.8768\n"
          ]
        },
        {
          "output_type": "execute_result",
          "data": {
            "text/plain": [
              "<keras.src.callbacks.History at 0x7b0e69d9df60>"
            ]
          },
          "metadata": {},
          "execution_count": 30
        }
      ],
      "source": [
        "model.fit(train_ds,\n",
        "          validation_data=val_ds,\n",
        "          epochs=150,\n",
        "          class_weight = class_weights\n",
        "          )"
      ]
    },
    {
      "cell_type": "code",
      "execution_count": 31,
      "metadata": {
        "colab": {
          "base_uri": "https://localhost:8080/"
        },
        "id": "3PTXtXnm2nMc",
        "outputId": "dd98460d-8386-4b96-f9c8-3a895b03ff1c"
      },
      "outputs": [
        {
          "output_type": "stream",
          "name": "stdout",
          "text": [
            "16/16 [==============================] - 0s 3ms/step - loss: 0.4689 - acc: 0.8993\n",
            "Accuracy 0.8993152379989624\n"
          ]
        }
      ],
      "source": [
        "loss, accuracy = model.evaluate(test_ds)\n",
        "print(\"Accuracy\", accuracy)"
      ]
    },
    {
      "cell_type": "markdown",
      "source": [
        "Testing the model with user input"
      ],
      "metadata": {
        "id": "KAtqb8bnkS2H"
      }
    },
    {
      "cell_type": "code",
      "source": [
        "def predict_input(input_umur, input_jenis_kelamin, input_tinggi_badan):\n",
        "  # Create input dictionary\n",
        "  if input_jenis_kelamin == 'laki=laki':\n",
        "    jenis_kelamin = 0\n",
        "  else:\n",
        "    jenis_kelamin = 1\n",
        "\n",
        "  user_input = {\n",
        "      'umur': np.array([input_umur], dtype=np.float32),\n",
        "      'Jenis_Kelamin': np.array([jenis_kelamin], dtype=np.float32),\n",
        "      'Tinggi_Badan': np.array([input_tinggi_badan], dtype=np.float32)\n",
        "  }\n",
        "\n",
        "  # Make prediction with the loaded model\n",
        "  predicted_class = model.predict(user_input).argmax(axis=1)\n",
        "  if predicted_class[0] == 0:\n",
        "    class_ = 'normal'\n",
        "  elif predicted_class[0] == 1:\n",
        "    class_ = 'tinggi'\n",
        "  elif predicted_class[0] == 2:\n",
        "    class_ = 'stunted'\n",
        "  else:\n",
        "    class_ = 'severely stunted'\n",
        "\n",
        "  print(f'Predicted class: {class_}')"
      ],
      "metadata": {
        "id": "ibd2PcvorgvD"
      },
      "execution_count": 35,
      "outputs": []
    },
    {
      "cell_type": "code",
      "source": [
        "# Example user input\n",
        "umur = 0\n",
        "print(f'input umur: {umur}')\n",
        "jenis_kelamin = 'laki-laki'\n",
        "print(f'input jenis kelamin: {jenis_kelamin}')\n",
        "tinggi_badan = 44.257719\n",
        "print(f'input tinggi badan: {tinggi_badan}')\n",
        "\n",
        "predict_input(umur, jenis_kelamin, tinggi_badan)"
      ],
      "metadata": {
        "colab": {
          "base_uri": "https://localhost:8080/"
        },
        "id": "yP975iz_J8k5",
        "outputId": "865fe667-71ed-48d9-8055-7a1eee3d99a3"
      },
      "execution_count": 36,
      "outputs": [
        {
          "output_type": "stream",
          "name": "stdout",
          "text": [
            "input umur: 0\n",
            "input jenis kelamin: laki-laki\n",
            "input tinggi badan: 44.257719\n",
            "1/1 [==============================] - 0s 23ms/step\n",
            "Predicted class: severely stunted\n"
          ]
        }
      ]
    },
    {
      "cell_type": "markdown",
      "source": [
        "Save and convert model to tfjs"
      ],
      "metadata": {
        "id": "TSvbDKkDkdIg"
      }
    },
    {
      "cell_type": "code",
      "source": [
        "model.save('model.h5')"
      ],
      "metadata": {
        "colab": {
          "base_uri": "https://localhost:8080/"
        },
        "id": "wLZ2vxaIKKUm",
        "outputId": "d464357f-2291-4c29-cbe8-eee8adf0cd1c"
      },
      "execution_count": 37,
      "outputs": [
        {
          "output_type": "stream",
          "name": "stderr",
          "text": [
            "/usr/local/lib/python3.10/dist-packages/keras/src/engine/training.py:3103: UserWarning: You are saving your model as an HDF5 file via `model.save()`. This file format is considered legacy. We recommend using instead the native Keras format, e.g. `model.save('my_model.keras')`.\n",
            "  saving_api.save_model(\n"
          ]
        }
      ]
    },
    {
      "cell_type": "code",
      "source": [
        "!pip install tensorflowjs"
      ],
      "metadata": {
        "colab": {
          "base_uri": "https://localhost:8080/",
          "height": 1000
        },
        "id": "0fqjgNgTiiqT",
        "outputId": "0e594af6-49a8-45a8-befb-f1d275b43d0f"
      },
      "execution_count": 38,
      "outputs": [
        {
          "output_type": "stream",
          "name": "stdout",
          "text": [
            "Collecting tensorflowjs\n",
            "  Downloading tensorflowjs-4.20.0-py3-none-any.whl (89 kB)\n",
            "\u001b[2K     \u001b[90m━━━━━━━━━━━━━━━━━━━━━━━━━━━━━━━━━━━━━━━━\u001b[0m \u001b[32m89.1/89.1 kB\u001b[0m \u001b[31m949.2 kB/s\u001b[0m eta \u001b[36m0:00:00\u001b[0m\n",
            "\u001b[?25hRequirement already satisfied: flax>=0.7.2 in /usr/local/lib/python3.10/dist-packages (from tensorflowjs) (0.8.4)\n",
            "Requirement already satisfied: importlib_resources>=5.9.0 in /usr/local/lib/python3.10/dist-packages (from tensorflowjs) (6.4.0)\n",
            "Requirement already satisfied: jax>=0.4.13 in /usr/local/lib/python3.10/dist-packages (from tensorflowjs) (0.4.26)\n",
            "Requirement already satisfied: jaxlib>=0.4.13 in /usr/local/lib/python3.10/dist-packages (from tensorflowjs) (0.4.26+cuda12.cudnn89)\n",
            "Requirement already satisfied: tensorflow<3,>=2.13.0 in /usr/local/lib/python3.10/dist-packages (from tensorflowjs) (2.15.0)\n",
            "Requirement already satisfied: tf-keras>=2.13.0 in /usr/local/lib/python3.10/dist-packages (from tensorflowjs) (2.15.1)\n",
            "Collecting tensorflow-decision-forests>=1.5.0 (from tensorflowjs)\n",
            "  Downloading tensorflow_decision_forests-1.9.1-cp310-cp310-manylinux_2_17_x86_64.manylinux2014_x86_64.whl (15.5 MB)\n",
            "\u001b[2K     \u001b[90m━━━━━━━━━━━━━━━━━━━━━━━━━━━━━━━━━━━━━━━━\u001b[0m \u001b[32m15.5/15.5 MB\u001b[0m \u001b[31m39.9 MB/s\u001b[0m eta \u001b[36m0:00:00\u001b[0m\n",
            "\u001b[?25hRequirement already satisfied: six<2,>=1.16.0 in /usr/local/lib/python3.10/dist-packages (from tensorflowjs) (1.16.0)\n",
            "Requirement already satisfied: tensorflow-hub>=0.16.1 in /usr/local/lib/python3.10/dist-packages (from tensorflowjs) (0.16.1)\n",
            "Collecting packaging~=23.1 (from tensorflowjs)\n",
            "  Downloading packaging-23.2-py3-none-any.whl (53 kB)\n",
            "\u001b[2K     \u001b[90m━━━━━━━━━━━━━━━━━━━━━━━━━━━━━━━━━━━━━━━━\u001b[0m \u001b[32m53.0/53.0 kB\u001b[0m \u001b[31m6.0 MB/s\u001b[0m eta \u001b[36m0:00:00\u001b[0m\n",
            "\u001b[?25hRequirement already satisfied: numpy>=1.22 in /usr/local/lib/python3.10/dist-packages (from flax>=0.7.2->tensorflowjs) (1.25.2)\n",
            "Requirement already satisfied: msgpack in /usr/local/lib/python3.10/dist-packages (from flax>=0.7.2->tensorflowjs) (1.0.8)\n",
            "Requirement already satisfied: optax in /usr/local/lib/python3.10/dist-packages (from flax>=0.7.2->tensorflowjs) (0.2.2)\n",
            "Requirement already satisfied: orbax-checkpoint in /usr/local/lib/python3.10/dist-packages (from flax>=0.7.2->tensorflowjs) (0.4.4)\n",
            "Requirement already satisfied: tensorstore in /usr/local/lib/python3.10/dist-packages (from flax>=0.7.2->tensorflowjs) (0.1.45)\n",
            "Requirement already satisfied: rich>=11.1 in /usr/local/lib/python3.10/dist-packages (from flax>=0.7.2->tensorflowjs) (13.7.1)\n",
            "Requirement already satisfied: typing-extensions>=4.2 in /usr/local/lib/python3.10/dist-packages (from flax>=0.7.2->tensorflowjs) (4.12.1)\n",
            "Requirement already satisfied: PyYAML>=5.4.1 in /usr/local/lib/python3.10/dist-packages (from flax>=0.7.2->tensorflowjs) (6.0.1)\n",
            "Requirement already satisfied: ml-dtypes>=0.2.0 in /usr/local/lib/python3.10/dist-packages (from jax>=0.4.13->tensorflowjs) (0.2.0)\n",
            "Requirement already satisfied: opt-einsum in /usr/local/lib/python3.10/dist-packages (from jax>=0.4.13->tensorflowjs) (3.3.0)\n",
            "Requirement already satisfied: scipy>=1.9 in /usr/local/lib/python3.10/dist-packages (from jax>=0.4.13->tensorflowjs) (1.11.4)\n",
            "Requirement already satisfied: absl-py>=1.0.0 in /usr/local/lib/python3.10/dist-packages (from tensorflow<3,>=2.13.0->tensorflowjs) (1.4.0)\n",
            "Requirement already satisfied: astunparse>=1.6.0 in /usr/local/lib/python3.10/dist-packages (from tensorflow<3,>=2.13.0->tensorflowjs) (1.6.3)\n",
            "Requirement already satisfied: flatbuffers>=23.5.26 in /usr/local/lib/python3.10/dist-packages (from tensorflow<3,>=2.13.0->tensorflowjs) (24.3.25)\n",
            "Requirement already satisfied: gast!=0.5.0,!=0.5.1,!=0.5.2,>=0.2.1 in /usr/local/lib/python3.10/dist-packages (from tensorflow<3,>=2.13.0->tensorflowjs) (0.5.4)\n",
            "Requirement already satisfied: google-pasta>=0.1.1 in /usr/local/lib/python3.10/dist-packages (from tensorflow<3,>=2.13.0->tensorflowjs) (0.2.0)\n",
            "Requirement already satisfied: h5py>=2.9.0 in /usr/local/lib/python3.10/dist-packages (from tensorflow<3,>=2.13.0->tensorflowjs) (3.9.0)\n",
            "Requirement already satisfied: libclang>=13.0.0 in /usr/local/lib/python3.10/dist-packages (from tensorflow<3,>=2.13.0->tensorflowjs) (18.1.1)\n",
            "Requirement already satisfied: protobuf!=4.21.0,!=4.21.1,!=4.21.2,!=4.21.3,!=4.21.4,!=4.21.5,<5.0.0dev,>=3.20.3 in /usr/local/lib/python3.10/dist-packages (from tensorflow<3,>=2.13.0->tensorflowjs) (3.20.3)\n",
            "Requirement already satisfied: setuptools in /usr/local/lib/python3.10/dist-packages (from tensorflow<3,>=2.13.0->tensorflowjs) (67.7.2)\n",
            "Requirement already satisfied: termcolor>=1.1.0 in /usr/local/lib/python3.10/dist-packages (from tensorflow<3,>=2.13.0->tensorflowjs) (2.4.0)\n",
            "Requirement already satisfied: wrapt<1.15,>=1.11.0 in /usr/local/lib/python3.10/dist-packages (from tensorflow<3,>=2.13.0->tensorflowjs) (1.14.1)\n",
            "Requirement already satisfied: tensorflow-io-gcs-filesystem>=0.23.1 in /usr/local/lib/python3.10/dist-packages (from tensorflow<3,>=2.13.0->tensorflowjs) (0.37.0)\n",
            "Requirement already satisfied: grpcio<2.0,>=1.24.3 in /usr/local/lib/python3.10/dist-packages (from tensorflow<3,>=2.13.0->tensorflowjs) (1.64.1)\n",
            "Requirement already satisfied: tensorboard<2.16,>=2.15 in /usr/local/lib/python3.10/dist-packages (from tensorflow<3,>=2.13.0->tensorflowjs) (2.15.2)\n",
            "Requirement already satisfied: tensorflow-estimator<2.16,>=2.15.0 in /usr/local/lib/python3.10/dist-packages (from tensorflow<3,>=2.13.0->tensorflowjs) (2.15.0)\n",
            "Requirement already satisfied: keras<2.16,>=2.15.0 in /usr/local/lib/python3.10/dist-packages (from tensorflow<3,>=2.13.0->tensorflowjs) (2.15.0)\n",
            "Requirement already satisfied: pandas in /usr/local/lib/python3.10/dist-packages (from tensorflow-decision-forests>=1.5.0->tensorflowjs) (2.0.3)\n",
            "Collecting tensorflow<3,>=2.13.0 (from tensorflowjs)\n",
            "  Downloading tensorflow-2.16.1-cp310-cp310-manylinux_2_17_x86_64.manylinux2014_x86_64.whl (589.8 MB)\n",
            "\u001b[2K     \u001b[90m━━━━━━━━━━━━━━━━━━━━━━━━━━━━━━━━━━━━━━━━\u001b[0m \u001b[32m589.8/589.8 MB\u001b[0m \u001b[31m1.9 MB/s\u001b[0m eta \u001b[36m0:00:00\u001b[0m\n",
            "\u001b[?25hRequirement already satisfied: wheel in /usr/local/lib/python3.10/dist-packages (from tensorflow-decision-forests>=1.5.0->tensorflowjs) (0.43.0)\n",
            "Collecting wurlitzer (from tensorflow-decision-forests>=1.5.0->tensorflowjs)\n",
            "  Downloading wurlitzer-3.1.0-py3-none-any.whl (8.4 kB)\n",
            "Collecting tf-keras>=2.13.0 (from tensorflowjs)\n",
            "  Downloading tf_keras-2.16.0-py3-none-any.whl (1.7 MB)\n",
            "\u001b[2K     \u001b[90m━━━━━━━━━━━━━━━━━━━━━━━━━━━━━━━━━━━━━━━━\u001b[0m \u001b[32m1.7/1.7 MB\u001b[0m \u001b[31m21.3 MB/s\u001b[0m eta \u001b[36m0:00:00\u001b[0m\n",
            "\u001b[?25hCollecting ydf (from tensorflow-decision-forests>=1.5.0->tensorflowjs)\n",
            "  Downloading ydf-0.4.3-cp310-cp310-manylinux_2_17_x86_64.manylinux2014_x86_64.whl (9.2 MB)\n",
            "\u001b[2K     \u001b[90m━━━━━━━━━━━━━━━━━━━━━━━━━━━━━━━━━━━━━━━━\u001b[0m \u001b[32m9.2/9.2 MB\u001b[0m \u001b[31m14.4 MB/s\u001b[0m eta \u001b[36m0:00:00\u001b[0m\n",
            "\u001b[?25hCollecting h5py>=3.10.0 (from tensorflow<3,>=2.13.0->tensorflowjs)\n",
            "  Downloading h5py-3.11.0-cp310-cp310-manylinux_2_17_x86_64.manylinux2014_x86_64.whl (5.3 MB)\n",
            "\u001b[2K     \u001b[90m━━━━━━━━━━━━━━━━━━━━━━━━━━━━━━━━━━━━━━━━\u001b[0m \u001b[32m5.3/5.3 MB\u001b[0m \u001b[31m15.9 MB/s\u001b[0m eta \u001b[36m0:00:00\u001b[0m\n",
            "\u001b[?25hCollecting ml-dtypes>=0.2.0 (from jax>=0.4.13->tensorflowjs)\n",
            "  Downloading ml_dtypes-0.3.2-cp310-cp310-manylinux_2_17_x86_64.manylinux2014_x86_64.whl (2.2 MB)\n",
            "\u001b[2K     \u001b[90m━━━━━━━━━━━━━━━━━━━━━━━━━━━━━━━━━━━━━━━━\u001b[0m \u001b[32m2.2/2.2 MB\u001b[0m \u001b[31m14.8 MB/s\u001b[0m eta \u001b[36m0:00:00\u001b[0m\n",
            "\u001b[?25hRequirement already satisfied: requests<3,>=2.21.0 in /usr/local/lib/python3.10/dist-packages (from tensorflow<3,>=2.13.0->tensorflowjs) (2.31.0)\n",
            "Collecting tensorboard<2.17,>=2.16 (from tensorflow<3,>=2.13.0->tensorflowjs)\n",
            "  Downloading tensorboard-2.16.2-py3-none-any.whl (5.5 MB)\n",
            "\u001b[2K     \u001b[90m━━━━━━━━━━━━━━━━━━━━━━━━━━━━━━━━━━━━━━━━\u001b[0m \u001b[32m5.5/5.5 MB\u001b[0m \u001b[31m16.0 MB/s\u001b[0m eta \u001b[36m0:00:00\u001b[0m\n",
            "\u001b[?25hCollecting keras>=3.0.0 (from tensorflow<3,>=2.13.0->tensorflowjs)\n",
            "  Downloading keras-3.3.3-py3-none-any.whl (1.1 MB)\n",
            "\u001b[2K     \u001b[90m━━━━━━━━━━━━━━━━━━━━━━━━━━━━━━━━━━━━━━━━\u001b[0m \u001b[32m1.1/1.1 MB\u001b[0m \u001b[31m15.6 MB/s\u001b[0m eta \u001b[36m0:00:00\u001b[0m\n",
            "\u001b[?25hCollecting namex (from keras>=3.0.0->tensorflow<3,>=2.13.0->tensorflowjs)\n",
            "  Downloading namex-0.0.8-py3-none-any.whl (5.8 kB)\n",
            "Collecting optree (from keras>=3.0.0->tensorflow<3,>=2.13.0->tensorflowjs)\n",
            "  Downloading optree-0.11.0-cp310-cp310-manylinux_2_17_x86_64.manylinux2014_x86_64.whl (311 kB)\n",
            "\u001b[2K     \u001b[90m━━━━━━━━━━━━━━━━━━━━━━━━━━━━━━━━━━━━━━━━\u001b[0m \u001b[32m311.2/311.2 kB\u001b[0m \u001b[31m6.4 MB/s\u001b[0m eta \u001b[36m0:00:00\u001b[0m\n",
            "\u001b[?25hRequirement already satisfied: charset-normalizer<4,>=2 in /usr/local/lib/python3.10/dist-packages (from requests<3,>=2.21.0->tensorflow<3,>=2.13.0->tensorflowjs) (3.3.2)\n",
            "Requirement already satisfied: idna<4,>=2.5 in /usr/local/lib/python3.10/dist-packages (from requests<3,>=2.21.0->tensorflow<3,>=2.13.0->tensorflowjs) (3.7)\n",
            "Requirement already satisfied: urllib3<3,>=1.21.1 in /usr/local/lib/python3.10/dist-packages (from requests<3,>=2.21.0->tensorflow<3,>=2.13.0->tensorflowjs) (2.0.7)\n",
            "Requirement already satisfied: certifi>=2017.4.17 in /usr/local/lib/python3.10/dist-packages (from requests<3,>=2.21.0->tensorflow<3,>=2.13.0->tensorflowjs) (2024.6.2)\n",
            "Requirement already satisfied: markdown-it-py>=2.2.0 in /usr/local/lib/python3.10/dist-packages (from rich>=11.1->flax>=0.7.2->tensorflowjs) (3.0.0)\n",
            "Requirement already satisfied: pygments<3.0.0,>=2.13.0 in /usr/local/lib/python3.10/dist-packages (from rich>=11.1->flax>=0.7.2->tensorflowjs) (2.16.1)\n",
            "Requirement already satisfied: markdown>=2.6.8 in /usr/local/lib/python3.10/dist-packages (from tensorboard<2.17,>=2.16->tensorflow<3,>=2.13.0->tensorflowjs) (3.6)\n",
            "Requirement already satisfied: tensorboard-data-server<0.8.0,>=0.7.0 in /usr/local/lib/python3.10/dist-packages (from tensorboard<2.17,>=2.16->tensorflow<3,>=2.13.0->tensorflowjs) (0.7.2)\n",
            "Requirement already satisfied: werkzeug>=1.0.1 in /usr/local/lib/python3.10/dist-packages (from tensorboard<2.17,>=2.16->tensorflow<3,>=2.13.0->tensorflowjs) (3.0.3)\n",
            "Requirement already satisfied: chex>=0.1.86 in /usr/local/lib/python3.10/dist-packages (from optax->flax>=0.7.2->tensorflowjs) (0.1.86)\n",
            "Requirement already satisfied: etils[epath,epy] in /usr/local/lib/python3.10/dist-packages (from orbax-checkpoint->flax>=0.7.2->tensorflowjs) (1.7.0)\n",
            "Requirement already satisfied: nest_asyncio in /usr/local/lib/python3.10/dist-packages (from orbax-checkpoint->flax>=0.7.2->tensorflowjs) (1.6.0)\n",
            "Requirement already satisfied: python-dateutil>=2.8.2 in /usr/local/lib/python3.10/dist-packages (from pandas->tensorflow-decision-forests>=1.5.0->tensorflowjs) (2.8.2)\n",
            "Requirement already satisfied: pytz>=2020.1 in /usr/local/lib/python3.10/dist-packages (from pandas->tensorflow-decision-forests>=1.5.0->tensorflowjs) (2023.4)\n",
            "Requirement already satisfied: tzdata>=2022.1 in /usr/local/lib/python3.10/dist-packages (from pandas->tensorflow-decision-forests>=1.5.0->tensorflowjs) (2024.1)\n",
            "Requirement already satisfied: toolz>=0.9.0 in /usr/local/lib/python3.10/dist-packages (from chex>=0.1.86->optax->flax>=0.7.2->tensorflowjs) (0.12.1)\n",
            "Requirement already satisfied: mdurl~=0.1 in /usr/local/lib/python3.10/dist-packages (from markdown-it-py>=2.2.0->rich>=11.1->flax>=0.7.2->tensorflowjs) (0.1.2)\n",
            "Requirement already satisfied: MarkupSafe>=2.1.1 in /usr/local/lib/python3.10/dist-packages (from werkzeug>=1.0.1->tensorboard<2.17,>=2.16->tensorflow<3,>=2.13.0->tensorflowjs) (2.1.5)\n",
            "Requirement already satisfied: fsspec in /usr/local/lib/python3.10/dist-packages (from etils[epath,epy]->orbax-checkpoint->flax>=0.7.2->tensorflowjs) (2023.6.0)\n",
            "Requirement already satisfied: zipp in /usr/local/lib/python3.10/dist-packages (from etils[epath,epy]->orbax-checkpoint->flax>=0.7.2->tensorflowjs) (3.19.1)\n",
            "Installing collected packages: namex, ydf, wurlitzer, packaging, optree, ml-dtypes, h5py, tensorboard, keras, tensorflow, tf-keras, tensorflow-decision-forests, tensorflowjs\n",
            "  Attempting uninstall: packaging\n",
            "    Found existing installation: packaging 24.0\n",
            "    Uninstalling packaging-24.0:\n",
            "      Successfully uninstalled packaging-24.0\n",
            "  Attempting uninstall: ml-dtypes\n",
            "    Found existing installation: ml-dtypes 0.2.0\n",
            "    Uninstalling ml-dtypes-0.2.0:\n",
            "      Successfully uninstalled ml-dtypes-0.2.0\n",
            "  Attempting uninstall: h5py\n",
            "    Found existing installation: h5py 3.9.0\n",
            "    Uninstalling h5py-3.9.0:\n",
            "      Successfully uninstalled h5py-3.9.0\n",
            "  Attempting uninstall: tensorboard\n",
            "    Found existing installation: tensorboard 2.15.2\n",
            "    Uninstalling tensorboard-2.15.2:\n",
            "      Successfully uninstalled tensorboard-2.15.2\n",
            "  Attempting uninstall: keras\n",
            "    Found existing installation: keras 2.15.0\n",
            "    Uninstalling keras-2.15.0:\n",
            "      Successfully uninstalled keras-2.15.0\n",
            "  Attempting uninstall: tensorflow\n",
            "    Found existing installation: tensorflow 2.15.0\n",
            "    Uninstalling tensorflow-2.15.0:\n",
            "      Successfully uninstalled tensorflow-2.15.0\n",
            "  Attempting uninstall: tf-keras\n",
            "    Found existing installation: tf_keras 2.15.1\n",
            "    Uninstalling tf_keras-2.15.1:\n",
            "      Successfully uninstalled tf_keras-2.15.1\n",
            "Successfully installed h5py-3.11.0 keras-3.3.3 ml-dtypes-0.3.2 namex-0.0.8 optree-0.11.0 packaging-23.2 tensorboard-2.16.2 tensorflow-2.16.1 tensorflow-decision-forests-1.9.1 tensorflowjs-4.20.0 tf-keras-2.16.0 wurlitzer-3.1.0 ydf-0.4.3\n"
          ]
        },
        {
          "output_type": "display_data",
          "data": {
            "application/vnd.colab-display-data+json": {
              "pip_warning": {
                "packages": [
                  "h5py",
                  "keras",
                  "ml_dtypes",
                  "tensorboard",
                  "tensorflow"
                ]
              },
              "id": "6f190f699d744f42a9988ce249705f23"
            }
          },
          "metadata": {}
        }
      ]
    },
    {
      "cell_type": "code",
      "source": [
        "!tensorflowjs_converter --input_format=keras model.h5 /content/tfjs_model"
      ],
      "metadata": {
        "colab": {
          "base_uri": "https://localhost:8080/"
        },
        "id": "WX2l1XpGjEyo",
        "outputId": "e23ab0fe-7578-453b-98e0-396739c894c0"
      },
      "execution_count": 1,
      "outputs": [
        {
          "output_type": "stream",
          "name": "stdout",
          "text": [
            "2024-06-11 09:49:47.878770: I tensorflow/core/platform/cpu_feature_guard.cc:210] This TensorFlow binary is optimized to use available CPU instructions in performance-critical operations.\n",
            "To enable the following instructions: AVX2 FMA, in other operations, rebuild TensorFlow with the appropriate compiler flags.\n",
            "2024-06-11 09:49:50.742004: W tensorflow/compiler/tf2tensorrt/utils/py_utils.cc:38] TF-TRT Warning: Could not find TensorRT\n"
          ]
        }
      ]
    },
    {
      "cell_type": "code",
      "source": [
        "!zip -r /content/tfjs_model.zip /content/tfjs_model/*"
      ],
      "metadata": {
        "colab": {
          "base_uri": "https://localhost:8080/"
        },
        "id": "cQz38_aukE1S",
        "outputId": "6a426442-fb2b-4e52-e380-77ccf84d51dd"
      },
      "execution_count": 2,
      "outputs": [
        {
          "output_type": "stream",
          "name": "stdout",
          "text": [
            "  adding: content/tfjs_model/group1-shard1of1.bin (deflated 7%)\n",
            "  adding: content/tfjs_model/model.json (deflated 81%)\n"
          ]
        }
      ]
    },
    {
      "cell_type": "code",
      "source": [
        "from google.colab import files\n",
        "files.download(\"/content/tfjs_model.zip\")"
      ],
      "metadata": {
        "colab": {
          "base_uri": "https://localhost:8080/",
          "height": 17
        },
        "id": "nNm7x-3nkOOA",
        "outputId": "ceae6ab8-cf09-4918-f036-d32722ab6e4a"
      },
      "execution_count": 3,
      "outputs": [
        {
          "output_type": "display_data",
          "data": {
            "text/plain": [
              "<IPython.core.display.Javascript object>"
            ],
            "application/javascript": [
              "\n",
              "    async function download(id, filename, size) {\n",
              "      if (!google.colab.kernel.accessAllowed) {\n",
              "        return;\n",
              "      }\n",
              "      const div = document.createElement('div');\n",
              "      const label = document.createElement('label');\n",
              "      label.textContent = `Downloading \"${filename}\": `;\n",
              "      div.appendChild(label);\n",
              "      const progress = document.createElement('progress');\n",
              "      progress.max = size;\n",
              "      div.appendChild(progress);\n",
              "      document.body.appendChild(div);\n",
              "\n",
              "      const buffers = [];\n",
              "      let downloaded = 0;\n",
              "\n",
              "      const channel = await google.colab.kernel.comms.open(id);\n",
              "      // Send a message to notify the kernel that we're ready.\n",
              "      channel.send({})\n",
              "\n",
              "      for await (const message of channel.messages) {\n",
              "        // Send a message to notify the kernel that we're ready.\n",
              "        channel.send({})\n",
              "        if (message.buffers) {\n",
              "          for (const buffer of message.buffers) {\n",
              "            buffers.push(buffer);\n",
              "            downloaded += buffer.byteLength;\n",
              "            progress.value = downloaded;\n",
              "          }\n",
              "        }\n",
              "      }\n",
              "      const blob = new Blob(buffers, {type: 'application/binary'});\n",
              "      const a = document.createElement('a');\n",
              "      a.href = window.URL.createObjectURL(blob);\n",
              "      a.download = filename;\n",
              "      div.appendChild(a);\n",
              "      a.click();\n",
              "      div.remove();\n",
              "    }\n",
              "  "
            ]
          },
          "metadata": {}
        },
        {
          "output_type": "display_data",
          "data": {
            "text/plain": [
              "<IPython.core.display.Javascript object>"
            ],
            "application/javascript": [
              "download(\"download_989325b8-d1fa-43d9-97da-e7f2ef967801\", \"tfjs_model.zip\", 127396)"
            ]
          },
          "metadata": {}
        }
      ]
    },
    {
      "cell_type": "code",
      "source": [],
      "metadata": {
        "id": "hKtotAAgLG6M"
      },
      "execution_count": null,
      "outputs": []
    }
  ],
  "metadata": {
    "colab": {
      "provenance": []
    },
    "kernelspec": {
      "display_name": "Python 3",
      "name": "python3"
    },
    "language_info": {
      "name": "python"
    }
  },
  "nbformat": 4,
  "nbformat_minor": 0
}